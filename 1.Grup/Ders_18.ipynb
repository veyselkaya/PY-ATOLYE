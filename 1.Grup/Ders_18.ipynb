{
  "nbformat": 4,
  "nbformat_minor": 0,
  "metadata": {
    "colab": {
      "name": "Ders-18.ipynb",
      "provenance": []
    },
    "kernelspec": {
      "name": "python3",
      "display_name": "Python 3"
    },
    "language_info": {
      "name": "python"
    }
  },
  "cells": [
    {
      "cell_type": "code",
      "metadata": {
        "id": "cqtDl8dLAQ8v"
      },
      "source": [
        "#Fonksiyonlar...: Kodlamada sürekli tekrar eden kodları tek sefer yazıp kullanamamıza yarar..."
      ],
      "execution_count": null,
      "outputs": []
    },
    {
      "cell_type": "code",
      "metadata": {
        "id": "ahPdZ3ioBGtO"
      },
      "source": [
        "# Bir web sayfamınız olduğunu ve her sayfa açıldığına kullanıcıya  \"Hoşgeldin!\" mesajı verdiğimizi düşünün... bunu sadece tek bir seferde yapmamıza yardımcı olur..."
      ],
      "execution_count": null,
      "outputs": []
    },
    {
      "cell_type": "code",
      "metadata": {
        "colab": {
          "base_uri": "https://localhost:8080/"
        },
        "id": "aQuRTBVcBo-7",
        "outputId": "e9dfc5ca-7dcf-45ad-94b6-6c96dcf1c17c"
      },
      "source": [
        "kullanici = input(\"Adını gir...:)\")\n",
        "print(\"Merhaba\", kullanici)"
      ],
      "execution_count": 3,
      "outputs": [
        {
          "output_type": "stream",
          "text": [
            "Adını gir...:)Minik kedi\n",
            "Merhaba Minik kedi\n"
          ],
          "name": "stdout"
        }
      ]
    },
    {
      "cell_type": "code",
      "metadata": {
        "id": "FJJgR3sVCS0M"
      },
      "source": [
        "def selamlama():\n",
        "  kullanici = input(\"Adını gir...:)\")\n",
        "  print(\"Merhaba\", kullanici, \",Sayfamıza hoşgeldin...\")"
      ],
      "execution_count": 13,
      "outputs": []
    },
    {
      "cell_type": "code",
      "metadata": {
        "colab": {
          "base_uri": "https://localhost:8080/"
        },
        "id": "qTpUgH8ICeLi",
        "outputId": "e9952c01-3ca0-409f-c536-971c039051e1"
      },
      "source": [
        "selamlama()"
      ],
      "execution_count": 8,
      "outputs": [
        {
          "output_type": "stream",
          "text": [
            "Adını gir...:)veysel\n",
            "Merhaba veysel Sayfamıza hoşgeldin...\n"
          ],
          "name": "stdout"
        }
      ]
    },
    {
      "cell_type": "code",
      "metadata": {
        "id": "wrscYvkDCt9L"
      },
      "source": [
        "#toplama işlemini bir fornksiyon yardımıyla yapmak"
      ],
      "execution_count": null,
      "outputs": []
    },
    {
      "cell_type": "code",
      "metadata": {
        "id": "wEH6ljYNC1Ep"
      },
      "source": [
        "def toplam():\n",
        "  print(\"Toplama fonksiyonu çağrıldı....\")\n",
        "  a = int(input(\"Birinci sayıyı gir: \"))\n",
        "  b = int(input(\"İkinci sayıyı gir: \"))\n",
        "  toplam = a+b\n",
        "  print(\"Toplamları: \", toplam)"
      ],
      "execution_count": 21,
      "outputs": []
    },
    {
      "cell_type": "code",
      "metadata": {
        "colab": {
          "base_uri": "https://localhost:8080/"
        },
        "id": "O3m7YEOkDihS",
        "outputId": "a363ede4-b8eb-4071-c048-4ce0ccca33a9"
      },
      "source": [
        "toplam()"
      ],
      "execution_count": 10,
      "outputs": [
        {
          "output_type": "stream",
          "text": [
            "Toplama fonksiyonu çağrıldı....\n",
            "Birinci sayıyı gir: 3\n",
            "İkinci sayıyı gir: 4\n",
            "Toplamları:  7\n"
          ],
          "name": "stdout"
        }
      ]
    },
    {
      "cell_type": "code",
      "metadata": {
        "colab": {
          "base_uri": "https://localhost:8080/"
        },
        "id": "Ik1XhxdxDn0f",
        "outputId": "17346e12-8391-4ae8-a39a-8a691f26c209"
      },
      "source": [
        "selamlama()"
      ],
      "execution_count": 11,
      "outputs": [
        {
          "output_type": "stream",
          "text": [
            "Adını gir...:)Kürşat\n",
            "Merhaba Kürşat Sayfamıza hoşgeldin...\n"
          ],
          "name": "stdout"
        }
      ]
    },
    {
      "cell_type": "code",
      "metadata": {
        "colab": {
          "base_uri": "https://localhost:8080/"
        },
        "id": "Vndb4d9tDszr",
        "outputId": "6af3fe46-c6b8-4920-dac7-c01ea55bd3d1"
      },
      "source": [
        "toplam()"
      ],
      "execution_count": 12,
      "outputs": [
        {
          "output_type": "stream",
          "text": [
            "Toplama fonksiyonu çağrıldı....\n",
            "Birinci sayıyı gir: 5\n",
            "İkinci sayıyı gir: 6\n",
            "Toplamları:  11\n"
          ],
          "name": "stdout"
        }
      ]
    },
    {
      "cell_type": "code",
      "metadata": {
        "colab": {
          "base_uri": "https://localhost:8080/"
        },
        "id": "EHiSyt4REUNb",
        "outputId": "cf336e2e-bb15-472f-de21-2c10d4e730a4"
      },
      "source": [
        "toplam()"
      ],
      "execution_count": 20,
      "outputs": [
        {
          "output_type": "stream",
          "text": [
            "Toplama fonksiyonu çağrıldı....\n",
            "Birinci sayıyı gir: 78\n",
            "İkinci sayıyı gir: 76\n",
            "Toplamları:  154\n"
          ],
          "name": "stdout"
        }
      ]
    },
    {
      "cell_type": "code",
      "metadata": {
        "id": "STmNP0cBEzzL"
      },
      "source": [
        "#Çok fazla gereksiz kod yazmak enerji israfıdır...!"
      ],
      "execution_count": null,
      "outputs": []
    },
    {
      "cell_type": "code",
      "metadata": {
        "id": "rRarBCc4FwTr"
      },
      "source": [
        "#dairenin alanını bulan fonksiyon\n",
        "import math\n",
        "def daireninAlani():\n",
        "  r = int(input(\"Dairenin yarıçapını giriniz: \"))\n",
        "  alan = math.pi*r**2\n",
        "  print(\"Dairenin alanı: \", alan)"
      ],
      "execution_count": 25,
      "outputs": []
    },
    {
      "cell_type": "code",
      "metadata": {
        "colab": {
          "base_uri": "https://localhost:8080/"
        },
        "id": "QMv3QcXKGngN",
        "outputId": "5ec7f7bf-6d6f-42ef-a6d8-657fd13c76dd"
      },
      "source": [
        "daireninAlani()"
      ],
      "execution_count": 26,
      "outputs": [
        {
          "output_type": "stream",
          "text": [
            "Dairenin yarıçapını giriniz: 10\n",
            "Dairenin alanı:  314.1592653589793\n"
          ],
          "name": "stdout"
        }
      ]
    },
    {
      "cell_type": "code",
      "metadata": {
        "colab": {
          "base_uri": "https://localhost:8080/"
        },
        "id": "fxspFmimGuWM",
        "outputId": "819ffd52-714c-4751-fbb9-ac9ac729c148"
      },
      "source": [
        "selamlama()"
      ],
      "execution_count": 27,
      "outputs": [
        {
          "output_type": "stream",
          "text": [
            "Adını gir...:)Meryem\n",
            "Merhaba Meryem ,Sayfamıza hoşgeldin...\n"
          ],
          "name": "stdout"
        }
      ]
    },
    {
      "cell_type": "code",
      "metadata": {
        "colab": {
          "base_uri": "https://localhost:8080/"
        },
        "id": "h7Dvx8o-Gy2c",
        "outputId": "11834a2e-8212-4420-db25-28ee49f3eed3"
      },
      "source": [
        "toplam()"
      ],
      "execution_count": 28,
      "outputs": [
        {
          "output_type": "stream",
          "text": [
            "Toplama fonksiyonu çağrıldı....\n",
            "Birinci sayıyı gir: 56\n",
            "İkinci sayıyı gir: 9876545678654345676543456543\n",
            "Toplamları:  9876545678654345676543456599\n"
          ],
          "name": "stdout"
        }
      ]
    }
  ]
}