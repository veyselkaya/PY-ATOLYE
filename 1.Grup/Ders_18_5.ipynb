{
  "nbformat": 4,
  "nbformat_minor": 0,
  "metadata": {
    "colab": {
      "name": "Ders-18.5.ipynb",
      "provenance": []
    },
    "kernelspec": {
      "name": "python3",
      "display_name": "Python 3"
    },
    "language_info": {
      "name": "python"
    }
  },
  "cells": [
    {
      "cell_type": "code",
      "metadata": {
        "id": "BW73ongQHDLK"
      },
      "source": [
        "#Nesne tabanlı programlama....(Object Oriented Programming)"
      ],
      "execution_count": null,
      "outputs": []
    },
    {
      "cell_type": "code",
      "metadata": {
        "id": "iE8vgjkPH82A"
      },
      "source": [
        "#Class----Sınıflar\n",
        "#Öğrenci isimli bir clasımız olsun...Ad_soyad, yaş, sınıf özellikleri olsun"
      ],
      "execution_count": null,
      "outputs": []
    },
    {
      "cell_type": "code",
      "metadata": {
        "id": "G5rqLmgMISrE"
      },
      "source": [
        "class Ogrenci():\n",
        "  ad_soyad = \"Ege Özcan\"\n",
        "  yas = 10\n",
        "  sinif = \"5-A\"\n",
        "  goz_rengi = \"Siyah\""
      ],
      "execution_count": 3,
      "outputs": []
    },
    {
      "cell_type": "code",
      "metadata": {
        "id": "xaFntjUlJhJ4"
      },
      "source": [
        "ogrenci1 = Ogrenci()"
      ],
      "execution_count": 4,
      "outputs": []
    },
    {
      "cell_type": "code",
      "metadata": {
        "colab": {
          "base_uri": "https://localhost:8080/"
        },
        "id": "ZONexoL0JvHP",
        "outputId": "fcf4dfd0-ca48-4257-fd92-db7b5651c32a"
      },
      "source": [
        "ogrenci1"
      ],
      "execution_count": 5,
      "outputs": [
        {
          "output_type": "execute_result",
          "data": {
            "text/plain": [
              "<__main__.Ogrenci at 0x7f6c70183890>"
            ]
          },
          "metadata": {
            "tags": []
          },
          "execution_count": 5
        }
      ]
    },
    {
      "cell_type": "code",
      "metadata": {
        "colab": {
          "base_uri": "https://localhost:8080/",
          "height": 35
        },
        "id": "owioLBSFJxcP",
        "outputId": "d95af79e-8e13-4f97-de4f-7c110dabe229"
      },
      "source": [
        "ogrenci1.goz_rengi"
      ],
      "execution_count": 6,
      "outputs": [
        {
          "output_type": "execute_result",
          "data": {
            "application/vnd.google.colaboratory.intrinsic+json": {
              "type": "string"
            },
            "text/plain": [
              "'Siyah'"
            ]
          },
          "metadata": {
            "tags": []
          },
          "execution_count": 6
        }
      ]
    },
    {
      "cell_type": "code",
      "metadata": {
        "colab": {
          "base_uri": "https://localhost:8080/",
          "height": 35
        },
        "id": "z5EUVGhyKIie",
        "outputId": "b7bcb4ed-9753-4108-bbbf-989278eb3ddd"
      },
      "source": [
        "ogrenci1.ad_soyad"
      ],
      "execution_count": 7,
      "outputs": [
        {
          "output_type": "execute_result",
          "data": {
            "application/vnd.google.colaboratory.intrinsic+json": {
              "type": "string"
            },
            "text/plain": [
              "'Ege Özcan'"
            ]
          },
          "metadata": {
            "tags": []
          },
          "execution_count": 7
        }
      ]
    },
    {
      "cell_type": "code",
      "metadata": {
        "id": "tgg4UlruK_Eo"
      },
      "source": [
        "ogrenci2 = Ogrenci()"
      ],
      "execution_count": 8,
      "outputs": []
    },
    {
      "cell_type": "code",
      "metadata": {
        "colab": {
          "base_uri": "https://localhost:8080/",
          "height": 35
        },
        "id": "J3OG8U68LBTk",
        "outputId": "50b6d713-db37-4da2-ac48-0019450a641b"
      },
      "source": [
        "ogrenci2.ad_soyad"
      ],
      "execution_count": 9,
      "outputs": [
        {
          "output_type": "execute_result",
          "data": {
            "application/vnd.google.colaboratory.intrinsic+json": {
              "type": "string"
            },
            "text/plain": [
              "'Ege Özcan'"
            ]
          },
          "metadata": {
            "tags": []
          },
          "execution_count": 9
        }
      ]
    },
    {
      "cell_type": "code",
      "metadata": {
        "id": "6OKWvz32LRlo"
      },
      "source": [
        "#__init__() metodu her bir objeyi içerdiği özelikleri ile çağırmamıza yardımcı olur... "
      ],
      "execution_count": null,
      "outputs": []
    },
    {
      "cell_type": "code",
      "metadata": {
        "id": "qvt7AtllLu2P"
      },
      "source": [
        "class Ogrenci():\n",
        "\n",
        "  def __init__(self):\n",
        "    print(\"İnit fonksiyonu çağrıldı...\")\n"
      ],
      "execution_count": null,
      "outputs": []
    },
    {
      "cell_type": "code",
      "metadata": {
        "id": "NLkw0fmpMW_q"
      },
      "source": [
        "class Ogrenci():\n",
        "  def __init__(self, ad_soyad, yas, sinif, goz_rengi):\n",
        "    self.ad_soyad = ad_soyad\n",
        "    self.yas = yas\n",
        "    self.sinif = sinif\n",
        "    self.goz_rengi = goz_rengi"
      ],
      "execution_count": 12,
      "outputs": []
    },
    {
      "cell_type": "code",
      "metadata": {
        "id": "WiIoeNa4NE9H"
      },
      "source": [
        "ogrenci1 = Ogrenci(\"Nisa Ilgın\", 11, \"5B\", \"Ela\")"
      ],
      "execution_count": 13,
      "outputs": []
    },
    {
      "cell_type": "code",
      "metadata": {
        "id": "hQuklXoxNgY7"
      },
      "source": [
        "ogrenci2 = Ogrenci(\"İsmet Arif Sadıç\", 11, \"5B\", \"Koyu Kahve\")"
      ],
      "execution_count": 15,
      "outputs": []
    },
    {
      "cell_type": "code",
      "metadata": {
        "colab": {
          "base_uri": "https://localhost:8080/",
          "height": 35
        },
        "id": "Eb9Mj3mMOCnE",
        "outputId": "dae807a6-69ec-4f2e-ada5-117ff89670f2"
      },
      "source": [
        "ogrenci1.ad_soyad"
      ],
      "execution_count": 16,
      "outputs": [
        {
          "output_type": "execute_result",
          "data": {
            "application/vnd.google.colaboratory.intrinsic+json": {
              "type": "string"
            },
            "text/plain": [
              "'Nisa Ilgın'"
            ]
          },
          "metadata": {
            "tags": []
          },
          "execution_count": 16
        }
      ]
    },
    {
      "cell_type": "code",
      "metadata": {
        "colab": {
          "base_uri": "https://localhost:8080/",
          "height": 35
        },
        "id": "cRaHxp2POH_q",
        "outputId": "7ff384f4-8411-4a90-e3d7-0ff1f2be35ac"
      },
      "source": [
        "ogrenci2.ad_soyad"
      ],
      "execution_count": 17,
      "outputs": [
        {
          "output_type": "execute_result",
          "data": {
            "application/vnd.google.colaboratory.intrinsic+json": {
              "type": "string"
            },
            "text/plain": [
              "'İsmet Arif Sadıç'"
            ]
          },
          "metadata": {
            "tags": []
          },
          "execution_count": 17
        }
      ]
    },
    {
      "cell_type": "code",
      "metadata": {
        "id": "j7ORzvrTOiSG"
      },
      "source": [
        "ogrenci3 = Ogrenci(\"Ebrar Serra Özdilek\", 11, \"5A\", \"Siyah\")"
      ],
      "execution_count": 18,
      "outputs": []
    },
    {
      "cell_type": "code",
      "metadata": {
        "colab": {
          "base_uri": "https://localhost:8080/",
          "height": 35
        },
        "id": "bz54w9S3Ow4x",
        "outputId": "aadde88e-126f-4bf5-de92-d620426715ba"
      },
      "source": [
        "ogrenci3.ad_soyad"
      ],
      "execution_count": 19,
      "outputs": [
        {
          "output_type": "execute_result",
          "data": {
            "application/vnd.google.colaboratory.intrinsic+json": {
              "type": "string"
            },
            "text/plain": [
              "'Ebrar Serra Özdilek'"
            ]
          },
          "metadata": {
            "tags": []
          },
          "execution_count": 19
        }
      ]
    },
    {
      "cell_type": "code",
      "metadata": {
        "id": "tfA0EVWuO9p4"
      },
      "source": [
        "#Veriler makinanın yemeğidir....(Alparslan Özdemir)"
      ],
      "execution_count": 20,
      "outputs": []
    }
  ]
}