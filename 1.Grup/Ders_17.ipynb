{
  "nbformat": 4,
  "nbformat_minor": 0,
  "metadata": {
    "colab": {
      "name": "Ders-17.ipynb",
      "provenance": [],
      "collapsed_sections": []
    },
    "kernelspec": {
      "name": "python3",
      "display_name": "Python 3"
    },
    "language_info": {
      "name": "python"
    }
  },
  "cells": [
    {
      "cell_type": "code",
      "metadata": {
        "id": "L9QfSD9P_Fg4"
      },
      "source": [
        "#Tekrar...."
      ],
      "execution_count": null,
      "outputs": []
    },
    {
      "cell_type": "code",
      "metadata": {
        "colab": {
          "base_uri": "https://localhost:8080/"
        },
        "id": "8_9Upmgo_Ilf",
        "outputId": "4f97c564-c286-4a48-9d20-59242cebb087"
      },
      "source": [
        "#kullanıcıdan isim alma\n",
        "isim = input(\"ismini gir: \")\n",
        "print(\"Merhaba\", isim)"
      ],
      "execution_count": 2,
      "outputs": [
        {
          "output_type": "stream",
          "text": [
            "ismini gir: Minik kedi\n",
            "Merhaba Minik kedi\n"
          ],
          "name": "stdout"
        }
      ]
    },
    {
      "cell_type": "code",
      "metadata": {
        "colab": {
          "base_uri": "https://localhost:8080/"
        },
        "id": "K4T9JTyt_OV2",
        "outputId": "7f0b5839-0b59-4275-ced0-2c20abed2fd6"
      },
      "source": [
        "#kullanıcıdan iki sayı alıp toplayan program\n",
        "sayi1 = int(input(\"Birinci sayıyı gir: \"))\n",
        "sayi2 = int(input(\"İkinci sayıyı gir: \"))\n",
        "toplam = sayi1+sayi2\n",
        "print(\"Girgiğin sayıların toplaı: \", toplam)"
      ],
      "execution_count": 5,
      "outputs": [
        {
          "output_type": "stream",
          "text": [
            "Birinci sayıyı gir: 100\n",
            "İkinci sayıyı gir: 500\n",
            "Girgiğin sayıların toplaı:  600\n"
          ],
          "name": "stdout"
        }
      ]
    },
    {
      "cell_type": "code",
      "metadata": {
        "colab": {
          "base_uri": "https://localhost:8080/"
        },
        "id": "Skn70B_o_wa9",
        "outputId": "ef3fb918-8abc-4eef-b82d-f02e1853075b"
      },
      "source": [
        "#kullanıcıdan iki sayı alıp çarpımlarını bulan program\n",
        "sayi1 = int(input(\"Birinci sayıyı gir: \"))\n",
        "sayi2 = int(input(\"İkinci sayıyı gir: \"))\n",
        "carpim = sayi1*sayi2\n",
        "print(\"Girgiğin sayıların çarpımı: \", carpim)"
      ],
      "execution_count": 6,
      "outputs": [
        {
          "output_type": "stream",
          "text": [
            "Birinci sayıyı gir: 10\n",
            "İkinci sayıyı gir: 5\n",
            "Girgiğin sayıların çarpımı:  50\n"
          ],
          "name": "stdout"
        }
      ]
    },
    {
      "cell_type": "code",
      "metadata": {
        "colab": {
          "base_uri": "https://localhost:8080/"
        },
        "id": "wJMQb02E_60D",
        "outputId": "211ec90f-d3cb-48f0-991b-319e67845940"
      },
      "source": [
        "#iki notun birincisinin %40 ını ikiscisinin %60 nı hespalaıp toplana program\n",
        "vize = int(input(\"Vize notunu giriniz: \"))\n",
        "final = int(input(\"Final notunuzu giriniz: \"))\n",
        "\n",
        "notunuz = vize*0.4 + final*0.6\n",
        "\n",
        "print(\"Vize notunuz: \",  vize, \"Final notunuz: \", final, \"Geçme notunuz: \", notunuz)\n",
        "\n",
        "if notunuz >50:\n",
        "  print(\"Sınıfı geçtin. Tebrikler 🥳  \")\n",
        "else:\n",
        "  print(\"Seneye bekleriz.. ☹️\")"
      ],
      "execution_count": 9,
      "outputs": [
        {
          "output_type": "stream",
          "text": [
            "Vize notunu giriniz: 30\n",
            "Final notunuzu giriniz: 20\n",
            "Vize notunuz:  30 Final notunuz:  20 Geçme notunuz:  24.0\n",
            "Seneye bekleriz.. ☹️\n"
          ],
          "name": "stdout"
        }
      ]
    },
    {
      "cell_type": "code",
      "metadata": {
        "colab": {
          "base_uri": "https://localhost:8080/"
        },
        "id": "s1kB868_BIEe",
        "outputId": "95909d4c-0c8f-4eae-e362-2129179c8cad"
      },
      "source": [
        "#girilen sayını tek mi, çift mi olduğunu söyleyen program\n",
        "\n",
        "sayi = int(input(\"Bir sayı giriniz: \"))\n",
        "if sayi %2 == 0:\n",
        "  print(sayi, \"sayısı çifttir\")\n",
        "\n",
        "else:\n",
        "  print(sayi, \"sayısı tektir\")"
      ],
      "execution_count": 17,
      "outputs": [
        {
          "output_type": "stream",
          "text": [
            "Bir sayı giriniz: -23\n",
            "-23 sayısı tektir\n"
          ],
          "name": "stdout"
        }
      ]
    },
    {
      "cell_type": "code",
      "metadata": {
        "colab": {
          "base_uri": "https://localhost:8080/"
        },
        "id": "jSq1C7PoCOam",
        "outputId": "699142b1-28c7-4c07-f424-4d570a793f05"
      },
      "source": [
        "#sinemada yaş kontrolü yapan program\n",
        "import time\n",
        "yas = int(input(\"Yaşını söyler misin? :\"))\n",
        "\n",
        "if yas<18:\n",
        "  print(\"Üzgünüm sinemaya giremezsin..:(\")\n",
        "elif yas > 64:\n",
        "  print(\"Üzgünüm pandemiden dolayı siz zaten dışarı çıkmamalıydınız. Polisi arıyorum..\")\n",
        "  time.sleep(3)\n",
        "  print(\"Şaka yaptım:))))\")\n",
        "else:\n",
        "  print(\"Hoşgeldin...İyi seyirler \")"
      ],
      "execution_count": 25,
      "outputs": [
        {
          "output_type": "stream",
          "text": [
            "Yaşını gir: 66\n",
            "Üzgünüm pandemiden dolayı siz zaten dışarı çıkmamalıydınız. Polisi arıyorum..\n",
            "Şaka yaptım:))))\n"
          ],
          "name": "stdout"
        }
      ]
    },
    {
      "cell_type": "code",
      "metadata": {
        "colab": {
          "base_uri": "https://localhost:8080/"
        },
        "id": "4rIV5fYPCkb2",
        "outputId": "ed5e4dde-5ac1-404a-8ebd-5f0cab00e0b9"
      },
      "source": [
        "#listedeki elemanları toplayan program........> n*(n+1)/2\n",
        "liste = [1,2,3,4,5,6,7,8,9,10]\n",
        "toplam = 0\n",
        "for eleman in liste:\n",
        "  toplam += eleman\n",
        "print(\"Listedeki elemanların toplamı: \", toplam)"
      ],
      "execution_count": 34,
      "outputs": [
        {
          "output_type": "stream",
          "text": [
            "Listedeki elemanların toplamı:  55\n"
          ],
          "name": "stdout"
        }
      ]
    },
    {
      "cell_type": "code",
      "metadata": {
        "colab": {
          "base_uri": "https://localhost:8080/"
        },
        "id": "0hl4mYn_FbZS",
        "outputId": "406bec7e-f756-4cc1-e948-c88ad8902b11"
      },
      "source": [
        "#Toplama işlemini range fonksiyonu ile yapma\n",
        "print(*range(1,20))"
      ],
      "execution_count": 37,
      "outputs": [
        {
          "output_type": "stream",
          "text": [
            "1 2 3 4 5 6 7 8 9 10 11 12 13 14 15 16 17 18 19\n"
          ],
          "name": "stdout"
        }
      ]
    },
    {
      "cell_type": "code",
      "metadata": {
        "colab": {
          "base_uri": "https://localhost:8080/"
        },
        "id": "nXZEGtdXFrOp",
        "outputId": "4e03ed84-b07c-453e-9676-9a528c7e2121"
      },
      "source": [
        "#Toplama işlemini range fonksiyonu ile yapma\n",
        "\n",
        "toplam = 0\n",
        "for eleman in range(1,101):\n",
        "   toplam += eleman\n",
        "print(\"Elemanların toplamı: \", toplam) \n"
      ],
      "execution_count": 39,
      "outputs": [
        {
          "output_type": "stream",
          "text": [
            "Elemanların toplamı:  5050\n"
          ],
          "name": "stdout"
        }
      ]
    },
    {
      "cell_type": "code",
      "metadata": {
        "colab": {
          "base_uri": "https://localhost:8080/"
        },
        "id": "yArPU6JsGJy4",
        "outputId": "1b2622d4-be02-4051-a55d-7c9450e48940"
      },
      "source": [
        "#faktöriyel hesaplama... 5!=5*4*3*2*1, 4!=4*3*2*1\n",
        "\n",
        "faktoriyel = 1\n",
        "for eleman in range(1,7):\n",
        "  faktoriyel *= eleman\n",
        "print(\"6 sayısının faktöriyeli:\", faktoriyel)"
      ],
      "execution_count": 44,
      "outputs": [
        {
          "output_type": "stream",
          "text": [
            "6 sayısının faktöriyeli: 720\n"
          ],
          "name": "stdout"
        }
      ]
    },
    {
      "cell_type": "code",
      "metadata": {
        "colab": {
          "base_uri": "https://localhost:8080/"
        },
        "id": "XaqFQV4qIP_h",
        "outputId": "152d4298-bc14-40ce-8c70-3851aa1b04ee"
      },
      "source": [
        "#kullanıcıdan istediği sayılı alıp faktöriyel bulma....\n",
        "sayi = int(input(\"Faktöriyelini bulmak istediğin sayıyı gir: \"))\n",
        "faktoriyel = 1\n",
        "for eleman in range(1, sayi+1):\n",
        "  faktoriyel *= eleman\n",
        "print(sayi, \"Sayısının faktöriyeli: \" , faktoriyel)"
      ],
      "execution_count": 60,
      "outputs": [
        {
          "output_type": "stream",
          "text": [
            "Faktöriyelini bulmak istediğin sayıyı gir: 5\n",
            "5 Sayısının faktöriyeli:  120\n"
          ],
          "name": "stdout"
        }
      ]
    },
    {
      "cell_type": "code",
      "metadata": {
        "colab": {
          "base_uri": "https://localhost:8080/"
        },
        "id": "pw21g_J9JA3X",
        "outputId": "c3f5e4fd-a0b6-455d-e664-a82d9d9122cf"
      },
      "source": [
        "ogrenci_listesi=[\"Kürşat\", \"Büşra\", \"Meryem\", \"Alparslan\", \"Esma\", \"Ebrar\"]\n",
        "ogrenci_listesi.append(\"Egemen\")\n",
        "print(ogrenci_listesi)"
      ],
      "execution_count": 64,
      "outputs": [
        {
          "output_type": "stream",
          "text": [
            "['Kürşat', 'Büşra', 'Meryem', 'Alparslan', 'Esma', 'Ebrar', 'Egemen']\n"
          ],
          "name": "stdout"
        }
      ]
    },
    {
      "cell_type": "code",
      "metadata": {
        "colab": {
          "base_uri": "https://localhost:8080/",
          "height": 35
        },
        "id": "QR3eIOztJtGx",
        "outputId": "5173e110-3a42-4452-cdda-72c982f382c7"
      },
      "source": [
        "ogrenci_listesi.pop()"
      ],
      "execution_count": 65,
      "outputs": [
        {
          "output_type": "execute_result",
          "data": {
            "application/vnd.google.colaboratory.intrinsic+json": {
              "type": "string"
            },
            "text/plain": [
              "'Egemen'"
            ]
          },
          "metadata": {
            "tags": []
          },
          "execution_count": 65
        }
      ]
    },
    {
      "cell_type": "code",
      "metadata": {
        "colab": {
          "base_uri": "https://localhost:8080/"
        },
        "id": "EH_InHCYJzan",
        "outputId": "666faeaa-f689-4bc6-cc61-6a2805a093bc"
      },
      "source": [
        "print(ogrenci_listesi)"
      ],
      "execution_count": 66,
      "outputs": [
        {
          "output_type": "stream",
          "text": [
            "['Kürşat', 'Büşra', 'Meryem', 'Alparslan', 'Esma', 'Ebrar']\n"
          ],
          "name": "stdout"
        }
      ]
    }
  ]
}