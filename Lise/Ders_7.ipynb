{
  "nbformat": 4,
  "nbformat_minor": 0,
  "metadata": {
    "colab": {
      "name": "Ders-7.ipynb",
      "provenance": []
    },
    "kernelspec": {
      "name": "python3",
      "display_name": "Python 3"
    },
    "language_info": {
      "name": "python"
    }
  },
  "cells": [
    {
      "cell_type": "code",
      "metadata": {
        "id": "SVMvAuVhbIFJ"
      },
      "source": [
        "#Fonksiyonlar"
      ],
      "execution_count": null,
      "outputs": []
    },
    {
      "cell_type": "code",
      "metadata": {
        "colab": {
          "base_uri": "https://localhost:8080/"
        },
        "id": "EqD_TizPbazB",
        "outputId": "087f2b66-c9f9-4924-a4da-67abc6aa4a6f"
      },
      "source": [
        "print(\"Merhaba. Sayfaya hoşheldin..:)\")"
      ],
      "execution_count": 1,
      "outputs": [
        {
          "output_type": "stream",
          "text": [
            "Merhaba. Sayfaya hoşheldin..:)\n"
          ],
          "name": "stdout"
        }
      ]
    },
    {
      "cell_type": "code",
      "metadata": {
        "id": "DMSr8Runbl7D"
      },
      "source": [
        "def selamla():\n",
        "  print(\"Merhaba. Sayfaya hoşheldin..:)\")\n",
        "  print(\"***********\")"
      ],
      "execution_count": 2,
      "outputs": []
    },
    {
      "cell_type": "code",
      "metadata": {
        "colab": {
          "base_uri": "https://localhost:8080/"
        },
        "id": "lonGlywZbxgC",
        "outputId": "c9efefb1-a679-4c69-a8d1-06335f45307e"
      },
      "source": [
        "selamla()"
      ],
      "execution_count": 3,
      "outputs": [
        {
          "output_type": "stream",
          "text": [
            "Merhaba. Sayfaya hoşheldin..:)\n",
            "***********\n"
          ],
          "name": "stdout"
        }
      ]
    },
    {
      "cell_type": "code",
      "metadata": {
        "id": "K7T_0DvWb63Z"
      },
      "source": [
        "#Toplama işlemi yapan fonksiyon\n",
        "\n",
        "def toplam():\n",
        "  a = int(input(\"birinci sayıyı gir: \"))\n",
        "  b = int(input(\"ikinic sayıyı gir: \"))\n",
        "  print(\"girdiğin sayılar  {}, {} dır. toplamları: {}. \".format(a,b,a+b))"
      ],
      "execution_count": 4,
      "outputs": []
    },
    {
      "cell_type": "code",
      "metadata": {
        "colab": {
          "base_uri": "https://localhost:8080/"
        },
        "id": "yqh6qxRlcTlE",
        "outputId": "31b21aaa-b0b4-427b-871d-5cafa6249a32"
      },
      "source": [
        "selamla()"
      ],
      "execution_count": 5,
      "outputs": [
        {
          "output_type": "stream",
          "text": [
            "Merhaba. Sayfaya hoşheldin..:)\n",
            "***********\n"
          ],
          "name": "stdout"
        }
      ]
    },
    {
      "cell_type": "code",
      "metadata": {
        "colab": {
          "base_uri": "https://localhost:8080/"
        },
        "id": "qGsxw8OncVlp",
        "outputId": "fa43065a-6344-48cb-ca44-ae72f4c5344b"
      },
      "source": [
        "toplam()"
      ],
      "execution_count": 6,
      "outputs": [
        {
          "output_type": "stream",
          "text": [
            "birinci sayıyı gir: 2\n",
            "ikinic sayıyı gir: 4\n",
            "girdiğin sayılar  2, 4 dır. toplamları: 6. \n"
          ],
          "name": "stdout"
        }
      ]
    },
    {
      "cell_type": "code",
      "metadata": {
        "id": "oYYIgPWjcfDx"
      },
      "source": [
        "#parametre alan fonksiyon örneği\n",
        "\n",
        "def selam(isim):\n",
        "  print(\"Merhaba. Hoşgeldin \", isim)"
      ],
      "execution_count": 11,
      "outputs": []
    },
    {
      "cell_type": "code",
      "metadata": {
        "colab": {
          "base_uri": "https://localhost:8080/"
        },
        "id": "-HoywPMacsaD",
        "outputId": "46eec5f4-2acd-4d07-b025-2ed43e650d99"
      },
      "source": [
        "selam(\"Veysel\")"
      ],
      "execution_count": 10,
      "outputs": [
        {
          "output_type": "stream",
          "text": [
            "Merhaba. hoşgeldin  Veysel\n"
          ],
          "name": "stdout"
        }
      ]
    },
    {
      "cell_type": "code",
      "metadata": {
        "id": "bDMIx3kFc2IL"
      },
      "source": [
        "#üç sayının ortalamasını bulan fonksiyon\n",
        "def ortalama(a,b,c):\n",
        "  print(\"Sayıların ortalaması: {}\".format((a+b+c)/3))"
      ],
      "execution_count": 12,
      "outputs": []
    },
    {
      "cell_type": "code",
      "metadata": {
        "colab": {
          "base_uri": "https://localhost:8080/"
        },
        "id": "hBL7RLMmdG3c",
        "outputId": "a7611188-2540-4379-f0bd-e51185a9f974"
      },
      "source": [
        "ortalama(3,4,5)"
      ],
      "execution_count": 13,
      "outputs": [
        {
          "output_type": "stream",
          "text": [
            "Sayıların ortalaması: 4.0\n"
          ],
          "name": "stdout"
        }
      ]
    },
    {
      "cell_type": "code",
      "metadata": {
        "id": "oT2A1skmdSHU"
      },
      "source": [
        "#öğrenci kayır sistemi\n",
        "\n",
        "ogrenci_listesi = []\n",
        "def kayit_sistemi():\n",
        "  ad_soyad = input(\"Adın soyadın: \")\n",
        "  ogrenci_listesi.append(ad_soyad)\n",
        "  print(\"Kayıtlı öğrenci listesi: \", ogrenci_listesi)\n",
        "  print(\"Kayıtlı öğrenci sayısı:\", len(ogrenci_listesi))"
      ],
      "execution_count": 19,
      "outputs": []
    },
    {
      "cell_type": "code",
      "metadata": {
        "colab": {
          "base_uri": "https://localhost:8080/"
        },
        "id": "bUb9RWnmd3IX",
        "outputId": "6568cf8c-27a6-4f1e-c9db-300a4c4fec9c"
      },
      "source": [
        "kayit_sistemi()"
      ],
      "execution_count": 20,
      "outputs": [
        {
          "output_type": "stream",
          "text": [
            "Adın soyadın: Veysel Kaya\n",
            "Kayıtlı öğrenci listesi:  ['Veysel Kaya']\n",
            "Kayıtlı öğrenci sayısı: 1\n"
          ],
          "name": "stdout"
        }
      ]
    },
    {
      "cell_type": "code",
      "metadata": {
        "colab": {
          "base_uri": "https://localhost:8080/"
        },
        "id": "Ojbk_sPgd8Sc",
        "outputId": "f1ea9760-ee76-4e4d-bd9b-c467839aa77c"
      },
      "source": [
        "kayit_sistemi()"
      ],
      "execution_count": 21,
      "outputs": [
        {
          "output_type": "stream",
          "text": [
            "Adın soyadın: Orhan Şahan\n",
            "Kayıtlı öğrenci listesi:  ['Veysel Kaya', 'Orhan Şahan']\n",
            "Kayıtlı öğrenci sayısı: 2\n"
          ],
          "name": "stdout"
        }
      ]
    },
    {
      "cell_type": "code",
      "metadata": {
        "colab": {
          "base_uri": "https://localhost:8080/"
        },
        "id": "eZpQCp23eAaj",
        "outputId": "12a6b808-a7fc-4c4c-d56d-8f71c7add41c"
      },
      "source": [
        "kayit_sistemi()"
      ],
      "execution_count": 22,
      "outputs": [
        {
          "output_type": "stream",
          "text": [
            "Adın soyadın: Nilsu Ayşe Gezen\n",
            "Kayıtlı öğrenci listesi:  ['Veysel Kaya', 'Orhan Şahan', 'Nilsu Ayşe Gezen']\n",
            "Kayıtlı öğrenci sayısı: 3\n"
          ],
          "name": "stdout"
        }
      ]
    },
    {
      "cell_type": "code",
      "metadata": {
        "colab": {
          "base_uri": "https://localhost:8080/"
        },
        "id": "dmlFvMaIeEs0",
        "outputId": "ee36a908-52f0-40bc-fe90-c9a3c46cdea8"
      },
      "source": [
        "kayit_sistemi()"
      ],
      "execution_count": 23,
      "outputs": [
        {
          "output_type": "stream",
          "text": [
            "Adın soyadın: Turan Koç\n",
            "Kayıtlı öğrenci listesi:  ['Veysel Kaya', 'Orhan Şahan', 'Nilsu Ayşe Gezen', 'Turan Koç']\n",
            "Kayıtlı öğrenci sayısı: 4\n"
          ],
          "name": "stdout"
        }
      ]
    },
    {
      "cell_type": "code",
      "metadata": {
        "id": "Ko4jqlHDfLB8"
      },
      "source": [
        "def ogrenciler():\n",
        "  print(\"Kayıtlı Öğrenciler Listesi\")\n",
        "  sayac =0\n",
        "  for eleman in ogrenci_listesi:\n",
        "    sayac+=1\n",
        "    print(sayac, \"-\", eleman)"
      ],
      "execution_count": 30,
      "outputs": []
    },
    {
      "cell_type": "code",
      "metadata": {
        "colab": {
          "base_uri": "https://localhost:8080/"
        },
        "id": "ftxHZCYwfR8g",
        "outputId": "ec1dc709-3d0a-41d9-8e52-baa833066f3e"
      },
      "source": [
        "kayit_sistemi()"
      ],
      "execution_count": 31,
      "outputs": [
        {
          "output_type": "stream",
          "text": [
            "Adın soyadın: Zeynep Gökçe Şahin\n",
            "Kayıtlı öğrenci listesi:  ['Veysel Kaya', 'Orhan Şahan', 'Nilsu Ayşe Gezen', 'Turan Koç', 'Zeynep Gökçe Şahin']\n",
            "Kayıtlı öğrenci sayısı: 5\n"
          ],
          "name": "stdout"
        }
      ]
    },
    {
      "cell_type": "code",
      "metadata": {
        "colab": {
          "base_uri": "https://localhost:8080/"
        },
        "id": "ufK7PrQFfTHQ",
        "outputId": "12b845f8-b026-4e27-e043-ad7fdd5861bb"
      },
      "source": [
        "ogrenciler()"
      ],
      "execution_count": 32,
      "outputs": [
        {
          "output_type": "stream",
          "text": [
            "Kayıtlı Öğrenciler Listesi\n",
            "1 - Veysel Kaya\n",
            "2 - Orhan Şahan\n",
            "3 - Nilsu Ayşe Gezen\n",
            "4 - Turan Koç\n",
            "5 - Zeynep Gökçe Şahin\n"
          ],
          "name": "stdout"
        }
      ]
    },
    {
      "cell_type": "code",
      "metadata": {
        "id": "WpnGscoBgTAa"
      },
      "source": [
        "#fonksiyonlarda return kavramı..."
      ],
      "execution_count": null,
      "outputs": []
    },
    {
      "cell_type": "code",
      "metadata": {
        "id": "XCNtuTVngdhp"
      },
      "source": [
        "def toplam(a,b,c):\n",
        "  print(\"Toplamları: \", a+b+c)"
      ],
      "execution_count": 36,
      "outputs": []
    },
    {
      "cell_type": "code",
      "metadata": {
        "id": "1V3bOujgglr_"
      },
      "source": [
        "def carpim(a):\n",
        "  print(\"5 ile çarpımı: \", 5*a)"
      ],
      "execution_count": 37,
      "outputs": []
    },
    {
      "cell_type": "code",
      "metadata": {
        "colab": {
          "base_uri": "https://localhost:8080/",
          "height": 249
        },
        "id": "l1c2rWXtgtgM",
        "outputId": "95d186b9-0999-4bfc-b3e6-4d10132838fe"
      },
      "source": [
        "carpim(toplam(3,4,5))"
      ],
      "execution_count": 40,
      "outputs": [
        {
          "output_type": "stream",
          "text": [
            "Toplamları:  12\n"
          ],
          "name": "stdout"
        },
        {
          "output_type": "error",
          "ename": "TypeError",
          "evalue": "ignored",
          "traceback": [
            "\u001b[0;31m---------------------------------------------------------------------------\u001b[0m",
            "\u001b[0;31mTypeError\u001b[0m                                 Traceback (most recent call last)",
            "\u001b[0;32m<ipython-input-40-0812c6958091>\u001b[0m in \u001b[0;36m<module>\u001b[0;34m()\u001b[0m\n\u001b[0;32m----> 1\u001b[0;31m \u001b[0mcarpim\u001b[0m\u001b[0;34m(\u001b[0m\u001b[0mtoplam\u001b[0m\u001b[0;34m(\u001b[0m\u001b[0;36m3\u001b[0m\u001b[0;34m,\u001b[0m\u001b[0;36m4\u001b[0m\u001b[0;34m,\u001b[0m\u001b[0;36m5\u001b[0m\u001b[0;34m)\u001b[0m\u001b[0;34m)\u001b[0m\u001b[0;34m\u001b[0m\u001b[0;34m\u001b[0m\u001b[0m\n\u001b[0m",
            "\u001b[0;32m<ipython-input-37-47d8ae7cac1c>\u001b[0m in \u001b[0;36mcarpim\u001b[0;34m(a)\u001b[0m\n\u001b[1;32m      1\u001b[0m \u001b[0;32mdef\u001b[0m \u001b[0mcarpim\u001b[0m\u001b[0;34m(\u001b[0m\u001b[0ma\u001b[0m\u001b[0;34m)\u001b[0m\u001b[0;34m:\u001b[0m\u001b[0;34m\u001b[0m\u001b[0;34m\u001b[0m\u001b[0m\n\u001b[0;32m----> 2\u001b[0;31m   \u001b[0mprint\u001b[0m\u001b[0;34m(\u001b[0m\u001b[0;34m\"5 ile çarpımı: \"\u001b[0m\u001b[0;34m,\u001b[0m \u001b[0;36m5\u001b[0m\u001b[0;34m*\u001b[0m\u001b[0ma\u001b[0m\u001b[0;34m)\u001b[0m\u001b[0;34m\u001b[0m\u001b[0;34m\u001b[0m\u001b[0m\n\u001b[0m",
            "\u001b[0;31mTypeError\u001b[0m: unsupported operand type(s) for *: 'int' and 'NoneType'"
          ]
        }
      ]
    },
    {
      "cell_type": "code",
      "metadata": {
        "id": "uJ4IiX8ehC8z"
      },
      "source": [
        "def toplam(a,b,c):\n",
        "   return a+b+c"
      ],
      "execution_count": 42,
      "outputs": []
    },
    {
      "cell_type": "code",
      "metadata": {
        "id": "CMrl-MmQhETC"
      },
      "source": [
        "def carpim(a):\n",
        "  return 5*a"
      ],
      "execution_count": 43,
      "outputs": []
    },
    {
      "cell_type": "code",
      "metadata": {
        "colab": {
          "base_uri": "https://localhost:8080/"
        },
        "id": "5c4YJZ5dhMFX",
        "outputId": "ae7cf1ae-fce0-4213-df9f-05ce84f914c6"
      },
      "source": [
        "carpim(toplam(3,4,5))"
      ],
      "execution_count": 44,
      "outputs": [
        {
          "output_type": "execute_result",
          "data": {
            "text/plain": [
              "60"
            ]
          },
          "metadata": {
            "tags": []
          },
          "execution_count": 44
        }
      ]
    },
    {
      "cell_type": "code",
      "metadata": {
        "id": "IrKWhQKbhWM0"
      },
      "source": [
        "def bolum(a):\n",
        "  return a/2"
      ],
      "execution_count": 45,
      "outputs": []
    },
    {
      "cell_type": "code",
      "metadata": {
        "colab": {
          "base_uri": "https://localhost:8080/"
        },
        "id": "ABQbHzXchgHG",
        "outputId": "d08975db-7133-4d5d-a0e2-76e9bf1d9f62"
      },
      "source": [
        "print(carpim(6))"
      ],
      "execution_count": 49,
      "outputs": [
        {
          "output_type": "stream",
          "text": [
            "30\n"
          ],
          "name": "stdout"
        }
      ]
    }
  ]
}