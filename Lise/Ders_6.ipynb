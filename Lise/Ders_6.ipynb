{
  "nbformat": 4,
  "nbformat_minor": 0,
  "metadata": {
    "colab": {
      "name": "Ders-6.ipynb",
      "provenance": [],
      "collapsed_sections": []
    },
    "kernelspec": {
      "name": "python3",
      "display_name": "Python 3"
    },
    "language_info": {
      "name": "python"
    }
  },
  "cells": [
    {
      "cell_type": "code",
      "metadata": {
        "colab": {
          "base_uri": "https://localhost:8080/"
        },
        "id": "GPmXJQlbV0rP",
        "outputId": "e2542a03-b4a3-42ec-b9f0-073fe7ce1d72"
      },
      "source": [
        "#ATM python programı\n",
        "print(\"\"\"*****************************\n",
        "İşlemler\n",
        "1-Para yatırmak için 1'e basınız\n",
        "2-Para çekmek için 2'ye basınız\n",
        "3-Bakiye için 3'e basınız.\n",
        "Çıkmak için X e basınız\n",
        "*******************************\"\"\")\n",
        "\n",
        "bakiye = 1000\n",
        "kredi = 500\n",
        "\n",
        "while True:\n",
        "  islem = input(\"İşlem seçiniz: \")\n",
        "  \n",
        "  if islem ==\"x\" or islem == \"X\":\n",
        "    print(\"Kartınızı alabilirsiniz... Yine bekleriz...\")\n",
        "    break\n",
        "  elif islem ==\"1\":\n",
        "    print(\"Para yatırma ekranına hoşgeldin...\")\n",
        "    miktar = int(input(\"Yatırmak isteiğiniz miktarı giriniz: \"))\n",
        "    print(\"yatırdığınız miktar:\", miktar)\n",
        "    bakiye = bakiye + miktar\n",
        "    print(\"Yeni bakiyeniz: \" , bakiye)\n",
        "  elif islem == \"3\":\n",
        "    print(\"Bakiye Ekranına hoşgeldin...\")\n",
        "    print(\"Bakiyeniz: \", bakiye)\n",
        "  elif islem == \"2\":\n",
        "    print(\"Para çekme ekranına hoşgeldiniz...\")\n",
        "    miktar = int(input(\"çekmek istediğiniz miktarı yazınız: \"))\n",
        "    print(\"Çekmek istediğiniz miktar:\", miktar)\n",
        "    if bakiye + kredi - miktar<0:\n",
        "      print(\"Bakiyeniz ve krediniz bu kadar para çekmek için uygun değil...\")\n",
        "      print(\"Bakiyeniz ve size verdiğimiz kredi toplamı: \", bakiye+kredi)\n",
        "      print(\"Bakiyeniz:\" ,bakiye)\n",
        "      continue\n",
        "    bakiye = bakiye - miktar\n",
        "    print(\"yeni bakiyeniz: \", bakiye)\n",
        "  else:\n",
        "    print(\"Lütfen geçerli bir işlem seçiniz....\")\n",
        "\n",
        "\n"
      ],
      "execution_count": 15,
      "outputs": [
        {
          "output_type": "stream",
          "text": [
            "*****************************\n",
            "İşlemler\n",
            "1-Para yatırmak için 1'e basınız\n",
            "2-Para çekmek için 2'ye basınız\n",
            "3-Bakiye için 3'e basınız.\n",
            "Çıkmak için X e basınız\n",
            "*******************************\n",
            "İşlem seçiniz: 3\n",
            "Bakiye Ekranına hoşgeldin...\n",
            "Bakiyeniz:  1000\n",
            "İşlem seçiniz: 2\n",
            "Para çekme ekranına hoşgeldiniz...\n",
            "çekmek istediğiniz miktarı yazınız: 200\n",
            "Çekmek istediğiniz miktar: 200\n",
            "yeni bakiyeniz:  800\n",
            "İşlem seçiniz: 2\n",
            "Para çekme ekranına hoşgeldiniz...\n",
            "çekmek istediğiniz miktarı yazınız: 400\n",
            "Çekmek istediğiniz miktar: 400\n",
            "yeni bakiyeniz:  400\n",
            "İşlem seçiniz: 1\n",
            "Para yatırma ekranına hoşgeldin...\n",
            "Yatırmak isteiğiniz miktarı giriniz: 8000\n",
            "yatırdığınız miktar: 8000\n",
            "Yeni bakiyeniz:  8400\n",
            "İşlem seçiniz: 3\n",
            "Bakiye Ekranına hoşgeldin...\n",
            "Bakiyeniz:  8400\n",
            "İşlem seçiniz: 3\n",
            "Bakiye Ekranına hoşgeldin...\n",
            "Bakiyeniz:  8400\n",
            "İşlem seçiniz: x\n",
            "Kartınızı alabilirsiniz... Yine bekleriz...\n"
          ],
          "name": "stdout"
        }
      ]
    }
  ]
}