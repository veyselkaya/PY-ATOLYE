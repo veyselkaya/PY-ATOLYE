{
  "nbformat": 4,
  "nbformat_minor": 0,
  "metadata": {
    "colab": {
      "name": "Ders-5.ipynb",
      "provenance": [],
      "collapsed_sections": []
    },
    "kernelspec": {
      "name": "python3",
      "display_name": "Python 3"
    },
    "language_info": {
      "name": "python"
    }
  },
  "cells": [
    {
      "cell_type": "code",
      "metadata": {
        "colab": {
          "base_uri": "https://localhost:8080/"
        },
        "id": "T-tWf4qaOxgn",
        "outputId": "9475b7a4-c862-4918-b847-eac89ceee9d3"
      },
      "source": [
        "liste = [1,2,3,4,5,6,7,8,9]\n",
        "for eleman in liste:\n",
        "  print(\"Argem-\",eleman)"
      ],
      "execution_count": 1,
      "outputs": [
        {
          "output_type": "stream",
          "text": [
            "Argem- 1\n",
            "Argem- 2\n",
            "Argem- 3\n",
            "Argem- 4\n",
            "Argem- 5\n",
            "Argem- 6\n",
            "Argem- 7\n",
            "Argem- 8\n",
            "Argem- 9\n"
          ],
          "name": "stdout"
        }
      ]
    },
    {
      "cell_type": "code",
      "metadata": {
        "colab": {
          "base_uri": "https://localhost:8080/"
        },
        "id": "DSbXTmeBPA0G",
        "outputId": "98762f00-af3e-43f6-bd6c-f26aec8f1c28"
      },
      "source": [
        "for eleman in range(1,10):\n",
        "  print(\"Argem\", eleman)"
      ],
      "execution_count": 2,
      "outputs": [
        {
          "output_type": "stream",
          "text": [
            "Argem 1\n",
            "Argem 2\n",
            "Argem 3\n",
            "Argem 4\n",
            "Argem 5\n",
            "Argem 6\n",
            "Argem 7\n",
            "Argem 8\n",
            "Argem 9\n"
          ],
          "name": "stdout"
        }
      ]
    },
    {
      "cell_type": "code",
      "metadata": {
        "colab": {
          "base_uri": "https://localhost:8080/"
        },
        "id": "r4Qn1TzUPUgG",
        "outputId": "908a0f45-c39c-452a-a68d-e1be08aa3f57"
      },
      "source": [
        "#listedeki tek ve çitf sayıları ayıran program\n",
        "\n",
        "cift = []\n",
        "tek = []\n",
        "\n",
        "for eleman in range(0,51):\n",
        "  if eleman %2==0:\n",
        "    cift.append(eleman)\n",
        "  else:\n",
        "    tek.append(eleman)\n",
        "print(\"Çift Sayılar:\", cift)\n",
        "print(\"Çift sayıların adedi:\", len(cift))\n",
        "print(\"Tek Sayılar:\", tek)\n",
        "print(\"Tek sayıların adedi:\", len(tek))\n"
      ],
      "execution_count": 8,
      "outputs": [
        {
          "output_type": "stream",
          "text": [
            "Çift Sayılar: [0, 2, 4, 6, 8, 10, 12, 14, 16, 18, 20, 22, 24, 26, 28, 30, 32, 34, 36, 38, 40, 42, 44, 46, 48, 50]\n",
            "Çift sayıların adedi: 26\n",
            "Tek Sayılar: [1, 3, 5, 7, 9, 11, 13, 15, 17, 19, 21, 23, 25, 27, 29, 31, 33, 35, 37, 39, 41, 43, 45, 47, 49]\n",
            "Tek sayıların adedi: 25\n"
          ],
          "name": "stdout"
        }
      ]
    },
    {
      "cell_type": "code",
      "metadata": {
        "id": "mNT0c9wGQyHI"
      },
      "source": [
        "#While Döngüsü"
      ],
      "execution_count": 9,
      "outputs": []
    },
    {
      "cell_type": "code",
      "metadata": {
        "colab": {
          "base_uri": "https://localhost:8080/"
        },
        "id": "tKgUlkZAQz-Q",
        "outputId": "05a177d8-b9fc-4ff9-b793-0eaf99f0d172"
      },
      "source": [
        "i = 0\n",
        "while i<10:\n",
        "  print(\"i nin değerleri\", i)\n",
        "  i +=1"
      ],
      "execution_count": 10,
      "outputs": [
        {
          "output_type": "stream",
          "text": [
            "i nin değerleri 0\n",
            "i nin değerleri 1\n",
            "i nin değerleri 2\n",
            "i nin değerleri 3\n",
            "i nin değerleri 4\n",
            "i nin değerleri 5\n",
            "i nin değerleri 6\n",
            "i nin değerleri 7\n",
            "i nin değerleri 8\n",
            "i nin değerleri 9\n"
          ],
          "name": "stdout"
        }
      ]
    },
    {
      "cell_type": "code",
      "metadata": {
        "id": "qcRj40wSRaPh"
      },
      "source": [
        "#sonsuz döngü..!!!!\n",
        "\n",
        "i = 0\n",
        "while i<10:\n",
        "  print(\"i nin değerleri\", i)\n",
        "  "
      ],
      "execution_count": null,
      "outputs": []
    },
    {
      "cell_type": "code",
      "metadata": {
        "colab": {
          "base_uri": "https://localhost:8080/"
        },
        "id": "wMpKiP8GRexR",
        "outputId": "27e829b3-5392-43cd-dac5-6f0790ea6f75"
      },
      "source": [
        "liste = [1,2,3,4,5]\n",
        "a = 0\n",
        "while a<len(liste):\n",
        "  print(\"index\",a, \"Eleman: \", liste[a])\n",
        "  a +=1"
      ],
      "execution_count": 13,
      "outputs": [
        {
          "output_type": "stream",
          "text": [
            "index 0 Eleman:  1\n",
            "index 1 Eleman:  2\n",
            "index 2 Eleman:  3\n",
            "index 3 Eleman:  4\n",
            "index 4 Eleman:  5\n"
          ],
          "name": "stdout"
        }
      ]
    },
    {
      "cell_type": "code",
      "metadata": {
        "id": "F-OUCSpESGra"
      },
      "source": [
        "#break ve continue özellikleri"
      ],
      "execution_count": null,
      "outputs": []
    },
    {
      "cell_type": "code",
      "metadata": {
        "colab": {
          "base_uri": "https://localhost:8080/"
        },
        "id": "sw39xKulSRSo",
        "outputId": "b3d0f1d8-6f4c-4d4c-8683-c2e4ace73c95"
      },
      "source": [
        "i = 0\n",
        "while i<30:\n",
        "  if i == 14:\n",
        "    break\n",
        "  i +=1\n",
        "  print(i)"
      ],
      "execution_count": 22,
      "outputs": [
        {
          "output_type": "stream",
          "text": [
            "1\n",
            "2\n",
            "3\n",
            "4\n",
            "5\n",
            "6\n",
            "7\n",
            "8\n",
            "9\n",
            "10\n",
            "11\n",
            "12\n",
            "13\n",
            "14\n"
          ],
          "name": "stdout"
        }
      ]
    },
    {
      "cell_type": "code",
      "metadata": {
        "colab": {
          "base_uri": "https://localhost:8080/"
        },
        "id": "Q-amNi31Sq4t",
        "outputId": "03a417e2-5c0c-4f77-ec4a-a6f3ec6f020e"
      },
      "source": [
        "liste = [1,2,3,4,5,6,7,8]\n",
        "for eleman in liste:\n",
        "  if eleman == 5:\n",
        "    break\n",
        "  print(eleman)"
      ],
      "execution_count": 20,
      "outputs": [
        {
          "output_type": "stream",
          "text": [
            "1\n",
            "2\n",
            "3\n",
            "4\n"
          ],
          "name": "stdout"
        }
      ]
    },
    {
      "cell_type": "code",
      "metadata": {
        "id": "8RWy4Yn3TNul"
      },
      "source": [
        "#While True...kullanıcı işlemi sonlandırana kadadar program çalışmaya devam eder.....\n"
      ],
      "execution_count": null,
      "outputs": []
    },
    {
      "cell_type": "code",
      "metadata": {
        "colab": {
          "base_uri": "https://localhost:8080/"
        },
        "id": "6Lb3yAUVTrGK",
        "outputId": "333c5270-365e-4409-9ebd-490a5e19d3c0"
      },
      "source": [
        "while True:\n",
        "  print(\"Çıkmak istediğinde q ya bas...\")\n",
        "  isim = input(\"Adını gir:\")\n",
        "  if isim == \"q\":\n",
        "    print(\"Program sonlandırıldı...\")\n",
        "    break\n",
        "  print(isim)\n"
      ],
      "execution_count": 23,
      "outputs": [
        {
          "output_type": "stream",
          "text": [
            "Çıkmak istediğinde q ya bas...\n",
            "Adını gir:kedi\n",
            "kedi\n",
            "Çıkmak istediğinde q ya bas...\n",
            "Adını gir:elma\n",
            "elma\n",
            "Çıkmak istediğinde q ya bas...\n",
            "Adını gir:armut\n",
            "armut\n",
            "Çıkmak istediğinde q ya bas...\n",
            "Adını gir:tyuyt\n",
            "tyuyt\n",
            "Çıkmak istediğinde q ya bas...\n",
            "Adını gir:q\n",
            "Program sonlandırıldı...\n"
          ],
          "name": "stdout"
        }
      ]
    },
    {
      "cell_type": "code",
      "metadata": {
        "id": "nEmA0-AHUaID"
      },
      "source": [
        "#continue"
      ],
      "execution_count": 24,
      "outputs": []
    },
    {
      "cell_type": "code",
      "metadata": {
        "colab": {
          "base_uri": "https://localhost:8080/"
        },
        "id": "HJacShGpUcB0",
        "outputId": "a5b54425-05a0-4ee7-c34a-8bf8578aca93"
      },
      "source": [
        "liste = [1,2,3,4,5]\n",
        "for eleman in liste:\n",
        "  print(eleman)"
      ],
      "execution_count": 25,
      "outputs": [
        {
          "output_type": "stream",
          "text": [
            "1\n",
            "2\n",
            "3\n",
            "4\n",
            "5\n"
          ],
          "name": "stdout"
        }
      ]
    },
    {
      "cell_type": "code",
      "metadata": {
        "colab": {
          "base_uri": "https://localhost:8080/"
        },
        "id": "59ATMAdVUmDk",
        "outputId": "c9859624-dfc1-4cd3-deb0-1bdd0b77eab8"
      },
      "source": [
        "liste = [1,2,3,4,5,6,7,8,9]\n",
        "for eleman in liste:\n",
        "  if eleman == 2 or eleman == 5:\n",
        "    continue\n",
        "  print(eleman)"
      ],
      "execution_count": 29,
      "outputs": [
        {
          "output_type": "stream",
          "text": [
            "1\n",
            "3\n",
            "4\n",
            "6\n",
            "7\n",
            "8\n",
            "9\n"
          ],
          "name": "stdout"
        }
      ]
    },
    {
      "cell_type": "code",
      "metadata": {
        "id": "E1ud-LyBVMMD"
      },
      "source": [
        "#Pro okullnıcı girişi uygulaması"
      ],
      "execution_count": 30,
      "outputs": []
    },
    {
      "cell_type": "code",
      "metadata": {
        "colab": {
          "base_uri": "https://localhost:8080/"
        },
        "id": "rIy9cf7SVXQM",
        "outputId": "1e0ec679-5467-4c3c-85ae-1272a5eef585"
      },
      "source": [
        "print(\"\"\"****************\n",
        "Kullanıcı Girişi\n",
        "****************\"\"\")\n",
        "\n",
        "#bilgilerimizin db de kayıtlı halleri\n",
        "db_k_adi = \"kedi\"\n",
        "db_k_sifre = \"1234\"\n",
        "\n",
        "giris_hakki = 3\n",
        "\n",
        "while True:\n",
        "  k_adi = input(\"Kullanıcı adını gir: \")\n",
        "  sifre = input(\"Şifreni gir: \")\n",
        "\n",
        "  if db_k_adi != k_adi and db_k_sifre != sifre:\n",
        "    print(\"İki alanı da yanlış girdiniz...\")\n",
        "    giris_hakki -=1\n",
        "    print(\"Kalan hakkınız...\", giris_hakki)\n",
        "\n",
        "  elif db_k_adi == k_adi and db_k_sifre != sifre:\n",
        "    print(\"Şifren hatalı...\", k_adi)\n",
        "    giris_hakki -=1\n",
        "    print(\"Kalan hakkınız...\", giris_hakki)\n",
        "\n",
        "  elif db_k_adi != k_adi and db_k_sifre == sifre:\n",
        "    print(\"Kullanıcı adın hatalı...\")\n",
        "    giris_hakki -=1\n",
        "    print(\"Kalan hakkınız...\", giris_hakki)\n",
        "  else:\n",
        "    print(\"Başarılı giriş yaptın..\", k_adi)\n",
        "    break\n",
        "  if giris_hakki == 0:\n",
        "    print(\"Giriş hakkın bitti... Sistemden atılıyorsun:)))\")\n",
        "    break"
      ],
      "execution_count": 38,
      "outputs": [
        {
          "output_type": "stream",
          "text": [
            "****************\n",
            "Kullanıcı Girişi\n",
            "****************\n",
            "Kullanıcı adını gir: kedi\n",
            "Şifreni gir: 123\n",
            "Şifren hatalı... kedi\n",
            "Kalan hakkınız... 2\n",
            "Kullanıcı adını gir: kedi\n",
            "Şifreni gir: 1234\n",
            "Başarılı giriş yaptın.. kedi\n"
          ],
          "name": "stdout"
        }
      ]
    },
    {
      "cell_type": "code",
      "metadata": {
        "id": "WHnDRX0BXxkS"
      },
      "source": [
        "#faktöriyel hesaplama"
      ],
      "execution_count": null,
      "outputs": []
    },
    {
      "cell_type": "code",
      "metadata": {
        "colab": {
          "base_uri": "https://localhost:8080/"
        },
        "id": "S3oCffPzX_Aq",
        "outputId": "cf3e79dd-3a55-410c-b061-7d5f3f9c41b0"
      },
      "source": [
        "sayi = int(input(\"Faktöriyelini bulmak istediğin sayıyı gir\"))\n",
        "faktoriyel = 1\n",
        "for eleman in range(1, sayi+1):\n",
        "  faktoriyel = faktoriyel*eleman\n",
        "  print( eleman, \"saysının faktöriyeli: \", faktoriyel)\n"
      ],
      "execution_count": 49,
      "outputs": [
        {
          "output_type": "stream",
          "text": [
            "Faktöriyelini bulmak istediğin sayıyı gir6\n",
            "1 saysının faktöriyeli:  1\n",
            "2 saysının faktöriyeli:  2\n",
            "3 saysının faktöriyeli:  6\n",
            "4 saysının faktöriyeli:  24\n",
            "5 saysının faktöriyeli:  120\n",
            "6 saysının faktöriyeli:  720\n"
          ],
          "name": "stdout"
        }
      ]
    },
    {
      "cell_type": "code",
      "metadata": {
        "id": "AbQ66JwnaCkw"
      },
      "source": [
        "# Pro faktöriyel hesaplama---- Programı kapatmak için q ya basınız..\n"
      ],
      "execution_count": null,
      "outputs": []
    },
    {
      "cell_type": "code",
      "metadata": {
        "colab": {
          "base_uri": "https://localhost:8080/"
        },
        "id": "NW9vbmVAaFme",
        "outputId": "c66a6fa3-dfd4-4321-caad-7aa89d4d342f"
      },
      "source": [
        "while True:\n",
        "  sayi = input(\"Faktöriyelini bulmak istediğin sayıyı gir: \")\n",
        "  if  sayi == \"q\" or sayi == \"Q\":\n",
        "    print(\"Progrm kapatıldı\")\n",
        "    break\n",
        "  sayi = int(sayi)\n",
        "\n",
        "  faktoriyel = 1\n",
        "  for eleman in range(2, sayi+1):\n",
        "    faktoriyel *= eleman\n",
        "\n",
        "  print(\"Girdiğin sayı:\", sayi, \"Faktöriyeli:\", faktoriyel)\n",
        "  "
      ],
      "execution_count": 55,
      "outputs": [
        {
          "output_type": "stream",
          "text": [
            "Faktöriyelini bulmak istediğin sayıyı gir: 54\n",
            "Girdiğin sayı: 54 Faktöriyeli: 230843697339241380472092742683027581083278564571807941132288000000000000\n",
            "Faktöriyelini bulmak istediğin sayıyı gir: q\n",
            "Progrm kapatıldı\n"
          ],
          "name": "stdout"
        }
      ]
    }
  ]
}