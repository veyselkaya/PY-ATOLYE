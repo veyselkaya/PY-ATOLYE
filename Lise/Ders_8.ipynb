{
  "nbformat": 4,
  "nbformat_minor": 0,
  "metadata": {
    "colab": {
      "name": "Ders-8.ipynb",
      "provenance": []
    },
    "kernelspec": {
      "name": "python3",
      "display_name": "Python 3"
    },
    "language_info": {
      "name": "python"
    }
  },
  "cells": [
    {
      "cell_type": "code",
      "metadata": {
        "id": "b1gOAXtgX2pu"
      },
      "source": [
        "#Fonksiyonlar... Global ve yerel değişkenler"
      ],
      "execution_count": null,
      "outputs": []
    },
    {
      "cell_type": "code",
      "metadata": {
        "id": "ZBzQ6WjBZ8gs"
      },
      "source": [
        "def fonksiyon():\n",
        "  #a bir yerel değişken ise\n",
        "  a = 10\n",
        "  print(a)"
      ],
      "execution_count": 17,
      "outputs": []
    },
    {
      "cell_type": "code",
      "metadata": {
        "colab": {
          "base_uri": "https://localhost:8080/"
        },
        "id": "MihSJYDnaHP6",
        "outputId": "7a4e2ed7-b31f-4c96-acb7-ceefea3b9d88"
      },
      "source": [
        "fonksiyon()"
      ],
      "execution_count": 18,
      "outputs": [
        {
          "output_type": "stream",
          "text": [
            "10\n"
          ],
          "name": "stdout"
        }
      ]
    },
    {
      "cell_type": "code",
      "metadata": {
        "colab": {
          "base_uri": "https://localhost:8080/",
          "height": 164
        },
        "id": "BgKRAJVFaOp7",
        "outputId": "834afed4-3b64-4a66-a14c-8e847b6f53ee"
      },
      "source": [
        "print(a)"
      ],
      "execution_count": 21,
      "outputs": [
        {
          "output_type": "error",
          "ename": "NameError",
          "evalue": "ignored",
          "traceback": [
            "\u001b[0;31m---------------------------------------------------------------------------\u001b[0m",
            "\u001b[0;31mNameError\u001b[0m                                 Traceback (most recent call last)",
            "\u001b[0;32m<ipython-input-21-bca0e2660b9f>\u001b[0m in \u001b[0;36m<module>\u001b[0;34m()\u001b[0m\n\u001b[0;32m----> 1\u001b[0;31m \u001b[0mprint\u001b[0m\u001b[0;34m(\u001b[0m\u001b[0ma\u001b[0m\u001b[0;34m)\u001b[0m\u001b[0;34m\u001b[0m\u001b[0;34m\u001b[0m\u001b[0m\n\u001b[0m",
            "\u001b[0;31mNameError\u001b[0m: name 'a' is not defined"
          ]
        }
      ]
    },
    {
      "cell_type": "code",
      "metadata": {
        "id": "y963YllQagoE"
      },
      "source": [
        "a = 10\n",
        "def fonksiyon():\n",
        "  print(a)"
      ],
      "execution_count": 22,
      "outputs": []
    },
    {
      "cell_type": "code",
      "metadata": {
        "colab": {
          "base_uri": "https://localhost:8080/"
        },
        "id": "Zw82uiqoantz",
        "outputId": "c16a5b56-dd4c-445d-f782-485fa6c6be6f"
      },
      "source": [
        "fonksiyon()"
      ],
      "execution_count": 23,
      "outputs": [
        {
          "output_type": "stream",
          "text": [
            "10\n"
          ],
          "name": "stdout"
        }
      ]
    },
    {
      "cell_type": "code",
      "metadata": {
        "colab": {
          "base_uri": "https://localhost:8080/"
        },
        "id": "PNlvkCXRarfv",
        "outputId": "ca65d707-5091-4e59-ae12-db7c7f62b94c"
      },
      "source": [
        "print(a)"
      ],
      "execution_count": 24,
      "outputs": [
        {
          "output_type": "stream",
          "text": [
            "10\n"
          ],
          "name": "stdout"
        }
      ]
    },
    {
      "cell_type": "code",
      "metadata": {
        "id": "axxHg2mMa8zw"
      },
      "source": [
        "#Bir sayının asallığını test eden fonksiyon"
      ],
      "execution_count": null,
      "outputs": []
    },
    {
      "cell_type": "code",
      "metadata": {
        "colab": {
          "base_uri": "https://localhost:8080/"
        },
        "id": "6yGlYxpAbCnV",
        "outputId": "d1e22307-5368-4dd9-9874-9d05dffd8e47"
      },
      "source": [
        "print(\"\"\"***********Asal sayıları tespit eden program************\"\"\")\n",
        "\n",
        "def asal(sayi):\n",
        "  if sayi == 1:\n",
        "    #print(\"girdiğin sayı 1. Asal değildir\")\n",
        "    return False\n",
        "  \n",
        "  elif sayi == 2:\n",
        "    return True\n",
        "\n",
        "  else:\n",
        "    for eleman in range(2, sayi):\n",
        "      if sayi % eleman == 0:\n",
        "        return False\n",
        "    return True\n",
        "\n",
        "while True:\n",
        "  sayi = input(\"Sayıyı giriniz:(çıkmak için q ya basınız) \")\n",
        "  if sayi == \"q\":\n",
        "    print(\"program sonlandırıldı...\")\n",
        "    break\n",
        "  else:\n",
        "    sayi = int(sayi)\n",
        "    \n",
        "    if asal(sayi):\n",
        "      print(sayi, \"Sayısı asaldır\")\n",
        "    else:\n",
        "      print(sayi, \"Sayısı asal değildir\")\n"
      ],
      "execution_count": 28,
      "outputs": [
        {
          "output_type": "stream",
          "text": [
            "***********Asal sayıları tespit eden program************\n",
            "Sayıyı giriniz:(çıkmak için q ya basınız) 8765673\n",
            "8765673 Sayısı asal değildir\n",
            "Sayıyı giriniz:(çıkmak için q ya basınız) q\n",
            "program sonlandırıldı...\n"
          ],
          "name": "stdout"
        }
      ]
    }
  ]
}