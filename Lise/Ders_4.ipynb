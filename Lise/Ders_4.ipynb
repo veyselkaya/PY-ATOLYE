{
  "nbformat": 4,
  "nbformat_minor": 0,
  "metadata": {
    "colab": {
      "name": "Ders-4(Lise).ipynb",
      "provenance": [],
      "collapsed_sections": []
    },
    "kernelspec": {
      "name": "python3",
      "display_name": "Python 3"
    },
    "language_info": {
      "name": "python"
    }
  },
  "cells": [
    {
      "cell_type": "code",
      "metadata": {
        "id": "doke_lOZP1dX"
      },
      "source": [
        "#Döngüler..."
      ],
      "execution_count": null,
      "outputs": []
    },
    {
      "cell_type": "code",
      "metadata": {
        "id": "-h10XzwQP3is"
      },
      "source": [
        "#in operatörü"
      ],
      "execution_count": null,
      "outputs": []
    },
    {
      "cell_type": "code",
      "metadata": {
        "colab": {
          "base_uri": "https://localhost:8080/"
        },
        "id": "x8xyaoPfP5uo",
        "outputId": "ced70740-4171-4328-ffd4-ba6c663d3ab5"
      },
      "source": [
        "\"e\" in \"veysel\""
      ],
      "execution_count": null,
      "outputs": [
        {
          "output_type": "execute_result",
          "data": {
            "text/plain": [
              "True"
            ]
          },
          "metadata": {
            "tags": []
          },
          "execution_count": 4
        }
      ]
    },
    {
      "cell_type": "code",
      "metadata": {
        "colab": {
          "base_uri": "https://localhost:8080/"
        },
        "id": "v5ldL5CMP-eA",
        "outputId": "f8269514-7de0-4e32-8603-10f2e3e90bfc"
      },
      "source": [
        "\"el\" in \"veysel\""
      ],
      "execution_count": null,
      "outputs": [
        {
          "output_type": "execute_result",
          "data": {
            "text/plain": [
              "True"
            ]
          },
          "metadata": {
            "tags": []
          },
          "execution_count": 5
        }
      ]
    },
    {
      "cell_type": "code",
      "metadata": {
        "colab": {
          "base_uri": "https://localhost:8080/"
        },
        "id": "TbdSlHgcQBcz",
        "outputId": "dc795ae8-484f-4ca4-8e25-ffdc850518ed"
      },
      "source": [
        "4 in [1,2,3,4,5,6]"
      ],
      "execution_count": null,
      "outputs": [
        {
          "output_type": "execute_result",
          "data": {
            "text/plain": [
              "True"
            ]
          },
          "metadata": {
            "tags": []
          },
          "execution_count": 6
        }
      ]
    },
    {
      "cell_type": "code",
      "metadata": {
        "colab": {
          "base_uri": "https://localhost:8080/"
        },
        "id": "4naYe26wQFfF",
        "outputId": "9a0bfc7b-ea67-4c2b-c88b-50e76d8c809d"
      },
      "source": [
        "8 in [1,2,3,4]"
      ],
      "execution_count": null,
      "outputs": [
        {
          "output_type": "execute_result",
          "data": {
            "text/plain": [
              "False"
            ]
          },
          "metadata": {
            "tags": []
          },
          "execution_count": 7
        }
      ]
    },
    {
      "cell_type": "code",
      "metadata": {
        "id": "z0nPfcJdQKYN"
      },
      "source": [
        "# for döngüsü..."
      ],
      "execution_count": null,
      "outputs": []
    },
    {
      "cell_type": "code",
      "metadata": {
        "colab": {
          "base_uri": "https://localhost:8080/"
        },
        "id": "XauA8yQfQUnc",
        "outputId": "6e1b2a0e-1440-42d5-aad7-9de28cab972c"
      },
      "source": [
        "liste = [1,2,3,4,5,6,7,8,9,10]\n",
        "for eleman in liste:\n",
        "  print(\"Argem\", eleman, sep=\"--\")"
      ],
      "execution_count": null,
      "outputs": [
        {
          "output_type": "stream",
          "text": [
            "Argem--1\n",
            "Argem--2\n",
            "Argem--3\n",
            "Argem--4\n",
            "Argem--5\n",
            "Argem--6\n",
            "Argem--7\n",
            "Argem--8\n",
            "Argem--9\n",
            "Argem--10\n"
          ],
          "name": "stdout"
        }
      ]
    },
    {
      "cell_type": "code",
      "metadata": {
        "colab": {
          "base_uri": "https://localhost:8080/"
        },
        "id": "Dxq2HFKJRAJe",
        "outputId": "45f78df5-5522-4ba7-fe5f-39ae7bf60896"
      },
      "source": [
        "liste = [1,2,3,4,5,6,7,8,9,10]\n",
        "toplam = 0\n",
        "for i in liste:\n",
        "  toplam +=i\n",
        "print(\"Listedeki sayıların toplamı:\", toplam)"
      ],
      "execution_count": null,
      "outputs": [
        {
          "output_type": "stream",
          "text": [
            "Listedeki sayıların toplamı: 20\n"
          ],
          "name": "stdout"
        }
      ]
    },
    {
      "cell_type": "code",
      "metadata": {
        "colab": {
          "base_uri": "https://localhost:8080/"
        },
        "id": "ZpSVsCqQSJP-",
        "outputId": "a168f67e-f9ef-4ec8-e2b7-dd8f66423c59"
      },
      "source": [
        "liste = [1,2,3,4,5,6,7,8]\n",
        "c_s = []\n",
        "for eleman in liste:\n",
        "  if eleman %2==0:\n",
        "    c_s.append(eleman)\n",
        "print(\"çift sayılar: \", c_s)\n",
        "print(\"Listedeki eleman sayısı: \", len(c_s))"
      ],
      "execution_count": null,
      "outputs": [
        {
          "output_type": "stream",
          "text": [
            "çift sayılar:  [2, 4, 6, 8]\n",
            "listedeki eleman sayısı:  4\n"
          ],
          "name": "stdout"
        }
      ]
    },
    {
      "cell_type": "code",
      "metadata": {
        "colab": {
          "base_uri": "https://localhost:8080/"
        },
        "id": "cfoQWgBGTr7s",
        "outputId": "1211549f-cd26-4e09-ec86-bf0b2b2f75c7"
      },
      "source": [
        "isim = \"Nilsu\"\n",
        "for karakter in isim:\n",
        "  print(karakter*8)"
      ],
      "execution_count": null,
      "outputs": [
        {
          "output_type": "stream",
          "text": [
            "NNNNNNNN\n",
            "iiiiiiii\n",
            "llllllll\n",
            "ssssssss\n",
            "uuuuuuuu\n"
          ],
          "name": "stdout"
        }
      ]
    },
    {
      "cell_type": "code",
      "metadata": {
        "colab": {
          "base_uri": "https://localhost:8080/"
        },
        "id": "bng4i04eUF-T",
        "outputId": "25a7b9f7-34c3-40c8-df63-52f5d5459c02"
      },
      "source": [
        "liste = [(1,2,3), (4,5,6), (7,8,9)]\n",
        "for (i,j,k) in liste:\n",
        "  print(i*j*k)"
      ],
      "execution_count": null,
      "outputs": [
        {
          "output_type": "stream",
          "text": [
            "6\n",
            "120\n",
            "504\n"
          ],
          "name": "stdout"
        }
      ]
    },
    {
      "cell_type": "code",
      "metadata": {
        "id": "7xjRcgiQUfaA"
      },
      "source": [
        "#range() fonksiyonu"
      ],
      "execution_count": null,
      "outputs": []
    },
    {
      "cell_type": "code",
      "metadata": {
        "colab": {
          "base_uri": "https://localhost:8080/"
        },
        "id": "EZYu-KNCUi9p",
        "outputId": "f94b8915-88db-41ef-fb09-03245c4f79d9"
      },
      "source": [
        "print(*range(1,11))"
      ],
      "execution_count": null,
      "outputs": [
        {
          "output_type": "stream",
          "text": [
            "1 2 3 4 5 6 7 8 9 10\n"
          ],
          "name": "stdout"
        }
      ]
    },
    {
      "cell_type": "code",
      "metadata": {
        "colab": {
          "base_uri": "https://localhost:8080/"
        },
        "id": "ByaAkW0uUqcH",
        "outputId": "f574f28e-44ef-44b4-ec98-0da0792faef8"
      },
      "source": [
        "toplam = 0\n",
        "for eleman in range(1,101):\n",
        "  toplam +=eleman\n",
        "print(\"1 den 100 e kadar sayıların toplamı...:\", toplam)"
      ],
      "execution_count": null,
      "outputs": [
        {
          "output_type": "stream",
          "text": [
            "1 den 100 e kadar sayıların toplamı...: 5050\n"
          ],
          "name": "stdout"
        }
      ]
    },
    {
      "cell_type": "code",
      "metadata": {
        "colab": {
          "base_uri": "https://localhost:8080/"
        },
        "id": "Jfku0m0vVErM",
        "outputId": "8274666c-4668-499b-998a-ee1b0ae3f428"
      },
      "source": [
        "print(*range(0,100,5))"
      ],
      "execution_count": null,
      "outputs": [
        {
          "output_type": "stream",
          "text": [
            "0 5 10 15 20 25 30 35 40 45 50 55 60 65 70 75 80 85 90 95\n"
          ],
          "name": "stdout"
        }
      ]
    },
    {
      "cell_type": "code",
      "metadata": {
        "colab": {
          "base_uri": "https://localhost:8080/"
        },
        "id": "0_NRRju7VVhR",
        "outputId": "ecb837d0-940a-4e87-a521-553ba4d3bb7a"
      },
      "source": [
        "toplam = 0\n",
        "for eleman in range(0,101,5):\n",
        "  toplam +=eleman\n",
        "print(\"1, den 100 e kadar 5 ile bölünen sayıalrın toplamı:\", toplam)"
      ],
      "execution_count": null,
      "outputs": [
        {
          "output_type": "stream",
          "text": [
            "1, den 100 e kadar 5 ile bölünen sayıalrın toplamı: 1050\n"
          ],
          "name": "stdout"
        }
      ]
    },
    {
      "cell_type": "code",
      "metadata": {
        "colab": {
          "base_uri": "https://localhost:8080/"
        },
        "id": "FJ1dkRRrVvt0",
        "outputId": "850bbffc-ff61-41d9-bba5-0ef4b179b953"
      },
      "source": [
        "toplam = 0\n",
        "ilk_sayi = int(input(\"ilk sayıyı gir:\"))\n",
        "son_sayi = int(input(\"Son sayıyı giriniz:\"))\n",
        "ar_miktari = int(input(\"artış miktarını giriniz: \"))\n",
        "\n",
        "for eleman in range(ilk_sayi, son_sayi + 1, ar_miktari):\n",
        "  toplam += eleman\n",
        "print(\"Başlangıç değeri: \", ilk_sayi, \"\\nBitiş Değeri: \", son_sayi, \"\\nArtış miktarı: \", ar_miktari, \"\\nToplamları: \", toplam)\n"
      ],
      "execution_count": null,
      "outputs": [
        {
          "output_type": "stream",
          "text": [
            "ilk sayıyı gir:45\n",
            "Son sayıyı giriniz:4567\n",
            "artış miktarını giriniz: 89\n",
            "Başlangıç değeri:  45 \n",
            "Bitiş Değeri:  4567 \n",
            "Artış miktarı:  89 \n",
            "Toplamları:  115770\n"
          ],
          "name": "stdout"
        }
      ]
    }
  ]
}