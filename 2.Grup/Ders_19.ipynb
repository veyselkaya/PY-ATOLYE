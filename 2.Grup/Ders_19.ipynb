{
  "nbformat": 4,
  "nbformat_minor": 0,
  "metadata": {
    "colab": {
      "name": "Ders-19.ipynb",
      "provenance": []
    },
    "kernelspec": {
      "name": "python3",
      "display_name": "Python 3"
    },
    "language_info": {
      "name": "python"
    }
  },
  "cells": [
    {
      "cell_type": "code",
      "metadata": {
        "id": "K99Hw0RPKI5Q"
      },
      "source": [
        "#Nesne Tabanlı Programlama---Object Oriented Programming---OOP\n",
        "#Class----Sınıflar"
      ],
      "execution_count": null,
      "outputs": []
    },
    {
      "cell_type": "code",
      "metadata": {
        "id": "j5yNb8B0LEdb"
      },
      "source": [
        "#Öğrenci sınıfımız olsun...\n",
        "#Öğrenci isimli bir veri tipi oluşturalım..."
      ],
      "execution_count": null,
      "outputs": []
    },
    {
      "cell_type": "code",
      "metadata": {
        "id": "ng40MMEtLV3M"
      },
      "source": [
        "class Ogrenci():\n",
        "  ad_soyad = \"Dilara Küçükikiz\"\n",
        "  yas = 13\n",
        "  sinif = \"7A\"\n",
        "  goz_rengi = \"Kahve\""
      ],
      "execution_count": 1,
      "outputs": []
    },
    {
      "cell_type": "code",
      "metadata": {
        "id": "uiiTh0REL_-l"
      },
      "source": [
        "#ogrenci1 isimli bir obje oluşturalım\n",
        "ogrenci1 = Ogrenci()"
      ],
      "execution_count": 2,
      "outputs": []
    },
    {
      "cell_type": "code",
      "metadata": {
        "colab": {
          "base_uri": "https://localhost:8080/",
          "height": 35
        },
        "id": "So5KB2C1MQaL",
        "outputId": "539381f8-2825-43b3-c9fa-5e733a842609"
      },
      "source": [
        "ogrenci1.ad_soyad"
      ],
      "execution_count": 3,
      "outputs": [
        {
          "output_type": "execute_result",
          "data": {
            "application/vnd.google.colaboratory.intrinsic+json": {
              "type": "string"
            },
            "text/plain": [
              "'Dilara Küçükikiz'"
            ]
          },
          "metadata": {
            "tags": []
          },
          "execution_count": 3
        }
      ]
    },
    {
      "cell_type": "code",
      "metadata": {
        "colab": {
          "base_uri": "https://localhost:8080/",
          "height": 35
        },
        "id": "kPaSaKZkMdP9",
        "outputId": "fcb9be79-15f0-47b4-fe56-1a0c234636f6"
      },
      "source": [
        "ogrenci1.goz_rengi"
      ],
      "execution_count": 4,
      "outputs": [
        {
          "output_type": "execute_result",
          "data": {
            "application/vnd.google.colaboratory.intrinsic+json": {
              "type": "string"
            },
            "text/plain": [
              "'Kahve'"
            ]
          },
          "metadata": {
            "tags": []
          },
          "execution_count": 4
        }
      ]
    },
    {
      "cell_type": "code",
      "metadata": {
        "id": "JrcDXJkgMmFW"
      },
      "source": [
        "ogrenci2= Ogrenci()"
      ],
      "execution_count": 5,
      "outputs": []
    },
    {
      "cell_type": "code",
      "metadata": {
        "colab": {
          "base_uri": "https://localhost:8080/",
          "height": 35
        },
        "id": "2HwP_AKzMpQl",
        "outputId": "a8ffbf1d-cf71-4830-9432-5f9b8bc80286"
      },
      "source": [
        "ogrenci2.ad_soyad"
      ],
      "execution_count": 6,
      "outputs": [
        {
          "output_type": "execute_result",
          "data": {
            "application/vnd.google.colaboratory.intrinsic+json": {
              "type": "string"
            },
            "text/plain": [
              "'Dilara Küçükikiz'"
            ]
          },
          "metadata": {
            "tags": []
          },
          "execution_count": 6
        }
      ]
    },
    {
      "cell_type": "code",
      "metadata": {
        "id": "2coxt5VQMynP"
      },
      "source": [
        "#__init__() metodu kullanılışı....."
      ],
      "execution_count": null,
      "outputs": []
    },
    {
      "cell_type": "code",
      "metadata": {
        "id": "Q5ph4rgENSx1"
      },
      "source": [
        "class Ogrenci():\n",
        "\n",
        "  def __init__(self):\n",
        "    print(\"init fonksiyonu çağrıldı...\")"
      ],
      "execution_count": 7,
      "outputs": []
    },
    {
      "cell_type": "code",
      "metadata": {
        "id": "lPTtHPs7Nga-"
      },
      "source": [
        "class Ogrenci():\n",
        "\n",
        "  def __init__(self, ad_soyad, yas, sinif, goz_rengi):\n",
        "    self.ad_soyad = ad_soyad\n",
        "    self.yas = yas\n",
        "    self.sinif = sinif\n",
        "    self.goz_rengi = goz_rengi"
      ],
      "execution_count": 8,
      "outputs": []
    },
    {
      "cell_type": "code",
      "metadata": {
        "id": "Xk5FAk_oOI7J"
      },
      "source": [
        "ogrenci1 = Ogrenci(\"Ahmet Arif Kuşçu\", 11, \"6D\", \"Kahve\")"
      ],
      "execution_count": 9,
      "outputs": []
    },
    {
      "cell_type": "code",
      "metadata": {
        "id": "hMW8kO5IOix7"
      },
      "source": [
        "ogrenci2 = Ogrenci(\"Ayşe Reyyan Kayaalp\", 12, \"6B\", \"Ela\")"
      ],
      "execution_count": 10,
      "outputs": []
    },
    {
      "cell_type": "code",
      "metadata": {
        "id": "ByKgvabpOst9"
      },
      "source": [
        "ogrenci3 = Ogrenci(\"Kürşat Efe Akdu\", 12, \"6C\", \"Kahve\")"
      ],
      "execution_count": 12,
      "outputs": []
    },
    {
      "cell_type": "code",
      "metadata": {
        "colab": {
          "base_uri": "https://localhost:8080/",
          "height": 35
        },
        "id": "fzj6vhgHO7Gu",
        "outputId": "d4a400ac-2b34-4715-fec1-7f1a8b431251"
      },
      "source": [
        "ogrenci2.sinif"
      ],
      "execution_count": 13,
      "outputs": [
        {
          "output_type": "execute_result",
          "data": {
            "application/vnd.google.colaboratory.intrinsic+json": {
              "type": "string"
            },
            "text/plain": [
              "'6B'"
            ]
          },
          "metadata": {
            "tags": []
          },
          "execution_count": 13
        }
      ]
    },
    {
      "cell_type": "code",
      "metadata": {
        "colab": {
          "base_uri": "https://localhost:8080/",
          "height": 35
        },
        "id": "bLrAG8ybO-8h",
        "outputId": "599a475a-7e98-4f14-a4ba-bb3bf410bbb9"
      },
      "source": [
        "ogrenci3.ad_soyad"
      ],
      "execution_count": 14,
      "outputs": [
        {
          "output_type": "execute_result",
          "data": {
            "application/vnd.google.colaboratory.intrinsic+json": {
              "type": "string"
            },
            "text/plain": [
              "'Kürşat Efe Akdu'"
            ]
          },
          "metadata": {
            "tags": []
          },
          "execution_count": 14
        }
      ]
    },
    {
      "cell_type": "code",
      "metadata": {
        "colab": {
          "base_uri": "https://localhost:8080/"
        },
        "id": "iec0GCB5PPTH",
        "outputId": "88be3b83-b1a9-4df8-dba1-658f86ada657"
      },
      "source": [
        "ogrenci2"
      ],
      "execution_count": 15,
      "outputs": [
        {
          "output_type": "execute_result",
          "data": {
            "text/plain": [
              "<__main__.Ogrenci at 0x7f193d123750>"
            ]
          },
          "metadata": {
            "tags": []
          },
          "execution_count": 15
        }
      ]
    },
    {
      "cell_type": "code",
      "metadata": {
        "colab": {
          "base_uri": "https://localhost:8080/"
        },
        "id": "oJIhWWwGPXl9",
        "outputId": "20caf938-b123-47c2-fda9-79e90eefbd68"
      },
      "source": [
        "type(ogrenci2)"
      ],
      "execution_count": 16,
      "outputs": [
        {
          "output_type": "execute_result",
          "data": {
            "text/plain": [
              "__main__.Ogrenci"
            ]
          },
          "metadata": {
            "tags": []
          },
          "execution_count": 16
        }
      ]
    },
    {
      "cell_type": "code",
      "metadata": {
        "colab": {
          "base_uri": "https://localhost:8080/"
        },
        "id": "YXSvPm8FPaq1",
        "outputId": "45284eda-c862-49de-c429-2459f9639405"
      },
      "source": [
        "dir(ogrenci2)"
      ],
      "execution_count": 17,
      "outputs": [
        {
          "output_type": "execute_result",
          "data": {
            "text/plain": [
              "['__class__',\n",
              " '__delattr__',\n",
              " '__dict__',\n",
              " '__dir__',\n",
              " '__doc__',\n",
              " '__eq__',\n",
              " '__format__',\n",
              " '__ge__',\n",
              " '__getattribute__',\n",
              " '__gt__',\n",
              " '__hash__',\n",
              " '__init__',\n",
              " '__init_subclass__',\n",
              " '__le__',\n",
              " '__lt__',\n",
              " '__module__',\n",
              " '__ne__',\n",
              " '__new__',\n",
              " '__reduce__',\n",
              " '__reduce_ex__',\n",
              " '__repr__',\n",
              " '__setattr__',\n",
              " '__sizeof__',\n",
              " '__str__',\n",
              " '__subclasshook__',\n",
              " '__weakref__',\n",
              " 'ad_soyad',\n",
              " 'goz_rengi',\n",
              " 'sinif',\n",
              " 'yas']"
            ]
          },
          "metadata": {
            "tags": []
          },
          "execution_count": 17
        }
      ]
    },
    {
      "cell_type": "code",
      "metadata": {
        "id": "F9QIdbAKSK-m"
      },
      "source": [
        "#Özel metodlar..\n",
        "class Kitap():\n",
        "  pass"
      ],
      "execution_count": 18,
      "outputs": []
    },
    {
      "cell_type": "code",
      "metadata": {
        "id": "Tf-XfgZCST1h"
      },
      "source": [
        "kitap1 = Kitap()"
      ],
      "execution_count": 19,
      "outputs": []
    },
    {
      "cell_type": "code",
      "metadata": {
        "colab": {
          "base_uri": "https://localhost:8080/"
        },
        "id": "fNaZ2hywSaUE",
        "outputId": "1d0fd881-8d18-483a-8595-a1220dac14a6"
      },
      "source": [
        "print(kitap1)"
      ],
      "execution_count": 20,
      "outputs": [
        {
          "output_type": "stream",
          "text": [
            "<__main__.Kitap object at 0x7f193d074c50>\n"
          ],
          "name": "stdout"
        }
      ]
    },
    {
      "cell_type": "code",
      "metadata": {
        "id": "iJWoVuMLSg8B"
      },
      "source": [
        "del(kitap1)"
      ],
      "execution_count": 21,
      "outputs": []
    },
    {
      "cell_type": "code",
      "metadata": {
        "colab": {
          "base_uri": "https://localhost:8080/",
          "height": 164
        },
        "id": "8rX-tJ5LSmz6",
        "outputId": "b6de3434-f480-4318-9d0b-0bbf81c45974"
      },
      "source": [
        "print(kitap1)"
      ],
      "execution_count": 22,
      "outputs": [
        {
          "output_type": "error",
          "ename": "NameError",
          "evalue": "ignored",
          "traceback": [
            "\u001b[0;31m---------------------------------------------------------------------------\u001b[0m",
            "\u001b[0;31mNameError\u001b[0m                                 Traceback (most recent call last)",
            "\u001b[0;32m<ipython-input-22-a86ba359ac8c>\u001b[0m in \u001b[0;36m<module>\u001b[0;34m()\u001b[0m\n\u001b[0;32m----> 1\u001b[0;31m \u001b[0mprint\u001b[0m\u001b[0;34m(\u001b[0m\u001b[0mkitap1\u001b[0m\u001b[0;34m)\u001b[0m\u001b[0;34m\u001b[0m\u001b[0;34m\u001b[0m\u001b[0m\n\u001b[0m",
            "\u001b[0;31mNameError\u001b[0m: name 'kitap1' is not defined"
          ]
        }
      ]
    },
    {
      "cell_type": "code",
      "metadata": {
        "id": "D9EsoI48Su69"
      },
      "source": [
        "#Kitap Classı oluştıralım...\n",
        "\n",
        "class Kitap():\n",
        "  def __init__(self, isim, yazar, sayfa_sayisi, tur, basim_tarihi, fiyat):\n",
        "    print(\"Kitap objesi oluştururluyor....\")\n",
        "    self.isim = isim\n",
        "    self.yazar = yazar\n",
        "    self.sayfa_sayisi = sayfa_sayisi\n",
        "    self.tur = tur\n",
        "    self.basim_tarihi = basim_tarihi\n",
        "    self.fiyat = fiyat"
      ],
      "execution_count": 27,
      "outputs": []
    },
    {
      "cell_type": "code",
      "metadata": {
        "colab": {
          "base_uri": "https://localhost:8080/"
        },
        "id": "sJYlTNsqTbws",
        "outputId": "cfc867cc-25f2-4fb2-b65a-7918d9225ce6"
      },
      "source": [
        "kitap1 = Kitap(\"Ben Robot\",\"Isaac Asimiov\", 200, \"Bilim Kurgu\", 2019, \"56₺\")"
      ],
      "execution_count": 28,
      "outputs": [
        {
          "output_type": "stream",
          "text": [
            "Kitap objesi oluştururluyor....\n"
          ],
          "name": "stdout"
        }
      ]
    },
    {
      "cell_type": "code",
      "metadata": {
        "colab": {
          "base_uri": "https://localhost:8080/",
          "height": 35
        },
        "id": "i2R9YM5eTtOn",
        "outputId": "f840b443-8ea4-4b49-8de5-247314670585"
      },
      "source": [
        "kitap1.fiyat"
      ],
      "execution_count": 29,
      "outputs": [
        {
          "output_type": "execute_result",
          "data": {
            "application/vnd.google.colaboratory.intrinsic+json": {
              "type": "string"
            },
            "text/plain": [
              "'56₺'"
            ]
          },
          "metadata": {
            "tags": []
          },
          "execution_count": 29
        }
      ]
    },
    {
      "cell_type": "code",
      "metadata": {
        "id": "DrqIAr-HUBFD"
      },
      "source": [
        "#str metodu"
      ],
      "execution_count": null,
      "outputs": []
    },
    {
      "cell_type": "code",
      "metadata": {
        "colab": {
          "base_uri": "https://localhost:8080/"
        },
        "id": "WCzNKpyqUH7-",
        "outputId": "09c0762f-b60d-4d1d-c9ba-a71262d2bf8c"
      },
      "source": [
        "print(kitap1)"
      ],
      "execution_count": 30,
      "outputs": [
        {
          "output_type": "stream",
          "text": [
            "<__main__.Kitap object at 0x7f193908e8d0>\n"
          ],
          "name": "stdout"
        }
      ]
    },
    {
      "cell_type": "code",
      "metadata": {
        "id": "nRQWa3WNUlly"
      },
      "source": [
        "class Kitap():\n",
        "  def __init__(self, isim, yazar, sayfa_sayisi, tur, basim_tarihi, fiyat):\n",
        "    print(\"Kitap objesi oluşturuluyor....\")\n",
        "    self.isim = isim\n",
        "    self.yazar = yazar\n",
        "    self.sayfa_sayisi = sayfa_sayisi\n",
        "    self.tur = tur\n",
        "    self.basim_tarihi = basim_tarihi\n",
        "    self.fiyat = fiyat\n",
        "\n",
        "  def __str__(self):\n",
        "    return \"İsim: {}. \\nYazar: {}. \\nSayfa sayısı: {}. \\nTur {}. \\nBasım tarihi: {}. \\nFiyat: {} \".format(self.isim, self.yazar, self.sayfa_sayisi, self.tur, self.basim_tarihi, self.fiyat)"
      ],
      "execution_count": 39,
      "outputs": []
    },
    {
      "cell_type": "code",
      "metadata": {
        "colab": {
          "base_uri": "https://localhost:8080/"
        },
        "id": "woeGSpbVVL3g",
        "outputId": "467b40ec-6e80-49e8-9eff-d484c9ce158d"
      },
      "source": [
        "kitap1 = Kitap(\"Ben Robot\",\"Isaac Asimiov\", 200, \"Bilim Kurgu\", 2019, \"56₺\")"
      ],
      "execution_count": 40,
      "outputs": [
        {
          "output_type": "stream",
          "text": [
            "Kitap objesi oluşturuluyor....\n"
          ],
          "name": "stdout"
        }
      ]
    },
    {
      "cell_type": "code",
      "metadata": {
        "colab": {
          "base_uri": "https://localhost:8080/"
        },
        "id": "KvtqmjLHVP8z",
        "outputId": "79160120-2971-4151-fe95-9e4a6bf85339"
      },
      "source": [
        "print(kitap1)"
      ],
      "execution_count": 41,
      "outputs": [
        {
          "output_type": "stream",
          "text": [
            "İsim: Ben Robot. \n",
            "Yazar: Isaac Asimiov. \n",
            "Sayfa sayısı: 200. \n",
            "Tur Bilim Kurgu. \n",
            "Basım tarihi: 2019. \n",
            "Fiyat: 56₺ \n"
          ],
          "name": "stdout"
        }
      ]
    }
  ]
}