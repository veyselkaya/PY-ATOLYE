{
  "nbformat": 4,
  "nbformat_minor": 0,
  "metadata": {
    "colab": {
      "name": "Ders-18.ipynb",
      "provenance": []
    },
    "kernelspec": {
      "name": "python3",
      "display_name": "Python 3"
    },
    "language_info": {
      "name": "python"
    }
  },
  "cells": [
    {
      "cell_type": "code",
      "metadata": {
        "colab": {
          "base_uri": "https://localhost:8080/"
        },
        "id": "gO-gDVZgHAyE",
        "outputId": "990472e8-d87b-4071-d11d-b64df0c4082c"
      },
      "source": [
        "#kullanıcıdan ad soyad bilfgisi alma\n",
        "isim = input(\"Adını ve soyadını gir: \")\n",
        "print(\"Merhaba {}. Hoş geldin\".format(isim))"
      ],
      "execution_count": 1,
      "outputs": [
        {
          "output_type": "stream",
          "text": [
            "Adını ve soyadını gir: Minik Kedi\n",
            "Merhaba Minik Kedi. Hoş geldin\n"
          ],
          "name": "stdout"
        }
      ]
    },
    {
      "cell_type": "code",
      "metadata": {
        "colab": {
          "base_uri": "https://localhost:8080/"
        },
        "id": "frUw8Z2pHUcS",
        "outputId": "295a432d-2616-4d32-f938-67263a02fd14"
      },
      "source": [
        "#iki sayının toplamını bulan program\n",
        "sayi1 = int(input(\"Birinci sayıyı gir: \"))\n",
        "sayi2 = int(input(\"İkinci sayıyı gir: \"))\n",
        "\n",
        "toplam = sayi1+sayi2\n",
        "print(\"Girdiğin sayılar: \", sayi1,\",\", sayi2, \"\\nToplamları: \", toplam)"
      ],
      "execution_count": 5,
      "outputs": [
        {
          "output_type": "stream",
          "text": [
            "Birinci sayıyı gir: 5\n",
            "İkinci sayıyı gir: 6\n",
            "Girdiğin sayılar:  5 , 6 \n",
            "Toplamları:  11\n"
          ],
          "name": "stdout"
        }
      ]
    },
    {
      "cell_type": "code",
      "metadata": {
        "colab": {
          "base_uri": "https://localhost:8080/"
        },
        "id": "97nzHUYNH2hP",
        "outputId": "95330265-a3df-4963-c718-1f4c301dd316"
      },
      "source": [
        "#kullanıcıdan iki not alıp birincisinin %30 unu, ikincisinin %70 hesaplayıp geçme notunu bulan program\n",
        "vize = int(input(\"Vize noyunu gir: \"))\n",
        "final = int(input(\"final notunu gir: \"))\n",
        "gecme_notu = vize*0.3 + final*0.7\n",
        "\n",
        "if gecme_notu >= 55:\n",
        "  print(\"Notunuz:\", gecme_notu)\n",
        "  print(\"Dersten başarılı oldun...Tebrikler\")\n",
        "\n",
        "else:\n",
        "  print(\"Notunuz:\", gecme_notu, \"\\n Geçme notu: 55 ve üstü olmalı\")\n",
        "  print(\"Seneye bekleriz..:))\")\n",
        "\n"
      ],
      "execution_count": 10,
      "outputs": [
        {
          "output_type": "stream",
          "text": [
            "Vize noyunu gir: 56\n",
            "final notunu gir: 67\n",
            "Notunuz: 63.7\n",
            "Dersten başarılı oldun...Tebrikler\n"
          ],
          "name": "stdout"
        }
      ]
    },
    {
      "cell_type": "code",
      "metadata": {
        "colab": {
          "base_uri": "https://localhost:8080/"
        },
        "id": "1HY2V1gFJSZa",
        "outputId": "174224e5-3d22-4920-a41e-eff0b8c8a7d8"
      },
      "source": [
        "#girilen sayının tek mi, çift mi olduğunu tespit eden program\n",
        "\n",
        "sayi = int(input(\"Syıyı gir: \"))\n",
        "if sayi %2==0:\n",
        "  print(\"Girdiğin sayı çifttir...\")\n",
        "else:\n",
        "  print(\"Girdiğin sayı tektir...\")"
      ],
      "execution_count": 12,
      "outputs": [
        {
          "output_type": "stream",
          "text": [
            "Syıyı gir: -38\n",
            "Girdiğin sayı çifttir...\n"
          ],
          "name": "stdout"
        }
      ]
    },
    {
      "cell_type": "code",
      "metadata": {
        "colab": {
          "base_uri": "https://localhost:8080/"
        },
        "id": "RUTGa4whJt7e",
        "outputId": "47c26e9d-65a5-4275-daa4-3423743cd1cf"
      },
      "source": [
        "#Girilen sayının işaretini tespit eden program..\n",
        "\n",
        "sayi = int(input(\"Sayıyı gir: \"))\n",
        "\n",
        "if sayi > 0:\n",
        "  print(\"Sayı pozitiftir..\")\n",
        "elif sayi <0:\n",
        "  print(\"Sayı negatiftir...\")\n",
        "elif sayi == 0:\n",
        "  print(\"Girdiğin sayı 0, işareti yok..:)\")"
      ],
      "execution_count": 17,
      "outputs": [
        {
          "output_type": "stream",
          "text": [
            "Sayıyı gir: -56\n",
            "Sayı negatiftri...\n"
          ],
          "name": "stdout"
        }
      ]
    },
    {
      "cell_type": "code",
      "metadata": {
        "colab": {
          "base_uri": "https://localhost:8080/"
        },
        "id": "OEjVoKrAKY9C",
        "outputId": "8263b506-1858-4c5e-e12a-f03f235e4e34"
      },
      "source": [
        "liste = [1,2,3,4,5,6,7,8,9,10]\n",
        "toplam = 0\n",
        "for eleman in liste:\n",
        "  toplam += eleman\n",
        "\n",
        "print(\"Toplamları:\", toplam)\n",
        "print(\"işlem sayısı: \", len(liste))"
      ],
      "execution_count": 30,
      "outputs": [
        {
          "output_type": "stream",
          "text": [
            "Toplamları: 55\n",
            "işlem sayısı:  10\n"
          ],
          "name": "stdout"
        }
      ]
    },
    {
      "cell_type": "code",
      "metadata": {
        "colab": {
          "base_uri": "https://localhost:8080/"
        },
        "id": "oMNzyH5BLelC",
        "outputId": "62afddf3-0f9a-4d87-b720-0405af0f526a"
      },
      "source": [
        "#rage() ile işlemler yapmak\n",
        "\n",
        "print(*range(1,20))"
      ],
      "execution_count": 32,
      "outputs": [
        {
          "output_type": "stream",
          "text": [
            "1 2 3 4 5 6 7 8 9 10 11 12 13 14 15 16 17 18 19\n"
          ],
          "name": "stdout"
        }
      ]
    },
    {
      "cell_type": "code",
      "metadata": {
        "colab": {
          "base_uri": "https://localhost:8080/"
        },
        "id": "8SzaCaHXLp_r",
        "outputId": "90ccaee0-77c5-41bc-a1cf-35beb7e968e4"
      },
      "source": [
        "#belli bir aralıktaki sayılarla işlem yapma\n",
        "\n",
        "toplam = 0\n",
        "\n",
        "for eleman in range(1,101):\n",
        "  toplam += eleman\n",
        "print(\"1'den 100'e kadar olan sayıların toplamı: \", toplam)"
      ],
      "execution_count": 35,
      "outputs": [
        {
          "output_type": "stream",
          "text": [
            "1'den 100'e kadar olan sayıların toplamı:  5050\n"
          ],
          "name": "stdout"
        }
      ]
    },
    {
      "cell_type": "code",
      "metadata": {
        "colab": {
          "base_uri": "https://localhost:8080/"
        },
        "id": "8oB0D-UvMD57",
        "outputId": "1fe4486b-d315-4d0f-e8c3-817ab457d2e8"
      },
      "source": [
        "#kulanıcıdan sınır alarak toplama işlemi yapma \n",
        "\n",
        "sayi = int(input(\"Son sayıyı giriniz:\"))\n",
        "toplam = 0\n",
        "for eleman in range(1, sayi+1):\n",
        "   toplam += eleman\n",
        "print(\"1'den,\", sayi,\"'a ya kadar olan sayıların toplamı\", toplam) "
      ],
      "execution_count": 39,
      "outputs": [
        {
          "output_type": "stream",
          "text": [
            "Son sayıyı giriniz:666\n",
            "1'den, 666 'a ya kadar olan sayıların toplamı 222111\n"
          ],
          "name": "stdout"
        }
      ]
    },
    {
      "cell_type": "code",
      "metadata": {
        "colab": {
          "base_uri": "https://localhost:8080/"
        },
        "id": "hu7ivbHCNHkN",
        "outputId": "2c5c0f95-235d-4747-ca71-8ee74529317b"
      },
      "source": [
        "faktoriyel = 1\n",
        "for eleman in range(1,6):\n",
        "  faktoriyel *=eleman\n",
        "  print(faktoriyel)\n",
        "  "
      ],
      "execution_count": 41,
      "outputs": [
        {
          "output_type": "stream",
          "text": [
            "1\n",
            "2\n",
            "6\n",
            "24\n",
            "120\n"
          ],
          "name": "stdout"
        }
      ]
    },
    {
      "cell_type": "code",
      "metadata": {
        "colab": {
          "base_uri": "https://localhost:8080/"
        },
        "id": "xL2d5ECLNa_D",
        "outputId": "7ae30fcb-1f0a-4a59-aa9e-3e014f2abdbd"
      },
      "source": [
        "sayi = int(input(\"faktöriyelini bulmak istediğin sayıyı gir: \"))\n",
        "faktoriyel = 1\n",
        "for eleman in range(1,sayi+1):\n",
        "  faktoriyel *=eleman\n",
        "  uzunluk = len(str(faktoriyel))\n",
        "\n",
        "print(\"girdiğin sayı: \", sayi, \"Faktöriyeli:\", faktoriyel)\n",
        "print(\"Girdiğin sayının uzunluğu: \", uzunluk)"
      ],
      "execution_count": 54,
      "outputs": [
        {
          "output_type": "stream",
          "text": [
            "faktöriyelini bulmak istediğin sayıyı gir: 93\n",
            "girdiğin sayı:  93 Faktöriyeli: 1156772507081641574759205162306240436214753229576413535186142281213246807121467315215203289516844845303838996289387078090752000000000000000000000\n",
            "Girdiğin sayının uzunluğu:  145\n"
          ],
          "name": "stdout"
        }
      ]
    },
    {
      "cell_type": "code",
      "metadata": {
        "colab": {
          "base_uri": "https://localhost:8080/"
        },
        "id": "v0zEhL7nOjX6",
        "outputId": "93c8bbe0-6c69-4120-87f6-b1ecf69f3bad"
      },
      "source": [
        "#1, den 100 e kadar 3 ve 5 e bölünen sayıları tespit eden pogram\n",
        "liste = []\n",
        "for eleman in range(1,101):\n",
        "  if eleman %3 ==0 and eleman %5 ==0:\n",
        "    liste.append(eleman)\n",
        "print(liste)\n",
        "print(len(liste))\n",
        "\n",
        "\n",
        "  "
      ],
      "execution_count": 62,
      "outputs": [
        {
          "output_type": "stream",
          "text": [
            "[15, 30, 45, 60, 75, 90]\n",
            "6\n"
          ],
          "name": "stdout"
        }
      ]
    },
    {
      "cell_type": "code",
      "metadata": {
        "colab": {
          "base_uri": "https://localhost:8080/"
        },
        "id": "l6JumFXdPlIH",
        "outputId": "82657b11-1c32-4600-c338-82503d92778f"
      },
      "source": [
        "#dairenin adlanını hesaplayan pogram(gece saat 3 te denemeyiniz....:))\n",
        "import math\n",
        "pi = math.pi\n",
        "yaricap = float(input(\"Dairenin yarıçapını gir: \"))\n",
        "alan = 2*pi*yaricap**2\n",
        "print(\"Girdiğin dairenin yarıçapı {}. Alanı {} dır \".format(yaricap, alan))"
      ],
      "execution_count": 76,
      "outputs": [
        {
          "output_type": "stream",
          "text": [
            "Dairenin yarıçapını gir: 666\n",
            "Girdiğin dairenin yarıçapı 666.0. Alanı 2786944.5421113484 dır \n"
          ],
          "name": "stdout"
        }
      ]
    },
    {
      "cell_type": "code",
      "metadata": {
        "id": "aetTM5_fRX5l"
      },
      "source": [
        "#dairenin alanını fonksiyon yardımıyla hesaplama\n",
        "def dairenin_alani():\n",
        "  pi = math.pi\n",
        "  yaricap = float(input(\"Dairenin yarıçapını gir: \"))\n",
        "  alan = 2*pi*yaricap**2\n",
        "  print(\"Girdiğin dairenin yarıçapı {}. Alanı {} dır \".format(yaricap, alan))"
      ],
      "execution_count": 77,
      "outputs": []
    },
    {
      "cell_type": "code",
      "metadata": {
        "colab": {
          "base_uri": "https://localhost:8080/"
        },
        "id": "CILGlJHrRmGc",
        "outputId": "ecc1222a-24e0-49a8-a288-e5342d293e39"
      },
      "source": [
        "dairenin_alani()"
      ],
      "execution_count": 78,
      "outputs": [
        {
          "output_type": "stream",
          "text": [
            "Dairenin yarıçapını gir: 6\n",
            "Girdiğin dairenin yarıçapı 6.0. Alanı 226.1946710584651 dır \n"
          ],
          "name": "stdout"
        }
      ]
    },
    {
      "cell_type": "code",
      "metadata": {
        "id": "2ZyD7x_5RnRi"
      },
      "source": [
        ""
      ],
      "execution_count": null,
      "outputs": []
    }
  ]
}