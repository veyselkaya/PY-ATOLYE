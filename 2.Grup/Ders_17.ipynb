{
  "nbformat": 4,
  "nbformat_minor": 0,
  "metadata": {
    "colab": {
      "name": "Ders-17.ipynb",
      "provenance": [],
      "collapsed_sections": []
    },
    "kernelspec": {
      "name": "python3",
      "display_name": "Python 3"
    },
    "language_info": {
      "name": "python"
    }
  },
  "cells": [
    {
      "cell_type": "code",
      "metadata": {
        "id": "B4qKMczNAaIU"
      },
      "source": [
        "#time modülü"
      ],
      "execution_count": 1,
      "outputs": []
    },
    {
      "cell_type": "code",
      "metadata": {
        "id": "3d7Ac-6UAchM"
      },
      "source": [
        "import time"
      ],
      "execution_count": 2,
      "outputs": []
    },
    {
      "cell_type": "code",
      "metadata": {
        "colab": {
          "base_uri": "https://localhost:8080/"
        },
        "id": "0Qy6XZOPAiL_",
        "outputId": "6e1c20fd-efa6-453a-9e5b-2575813bbe6e"
      },
      "source": [
        "help(time)"
      ],
      "execution_count": 3,
      "outputs": [
        {
          "output_type": "stream",
          "text": [
            "Help on built-in module time:\n",
            "\n",
            "NAME\n",
            "    time - This module provides various functions to manipulate time values.\n",
            "\n",
            "DESCRIPTION\n",
            "    There are two standard representations of time.  One is the number\n",
            "    of seconds since the Epoch, in UTC (a.k.a. GMT).  It may be an integer\n",
            "    or a floating point number (to represent fractions of seconds).\n",
            "    The Epoch is system-defined; on Unix, it is generally January 1st, 1970.\n",
            "    The actual value can be retrieved by calling gmtime(0).\n",
            "    \n",
            "    The other representation is a tuple of 9 integers giving local time.\n",
            "    The tuple items are:\n",
            "      year (including century, e.g. 1998)\n",
            "      month (1-12)\n",
            "      day (1-31)\n",
            "      hours (0-23)\n",
            "      minutes (0-59)\n",
            "      seconds (0-59)\n",
            "      weekday (0-6, Monday is 0)\n",
            "      Julian day (day in the year, 1-366)\n",
            "      DST (Daylight Savings Time) flag (-1, 0 or 1)\n",
            "    If the DST flag is 0, the time is given in the regular time zone;\n",
            "    if it is 1, the time is given in the DST time zone;\n",
            "    if it is -1, mktime() should guess based on the date and time.\n",
            "\n",
            "CLASSES\n",
            "    builtins.tuple(builtins.object)\n",
            "        struct_time\n",
            "    \n",
            "    class struct_time(builtins.tuple)\n",
            "     |  struct_time(iterable=(), /)\n",
            "     |  \n",
            "     |  The time value as returned by gmtime(), localtime(), and strptime(), and\n",
            "     |  accepted by asctime(), mktime() and strftime().  May be considered as a\n",
            "     |  sequence of 9 integers.\n",
            "     |  \n",
            "     |  Note that several fields' values are not the same as those defined by\n",
            "     |  the C language standard for struct tm.  For example, the value of the\n",
            "     |  field tm_year is the actual year, not year - 1900.  See individual\n",
            "     |  fields' descriptions for details.\n",
            "     |  \n",
            "     |  Method resolution order:\n",
            "     |      struct_time\n",
            "     |      builtins.tuple\n",
            "     |      builtins.object\n",
            "     |  \n",
            "     |  Methods defined here:\n",
            "     |  \n",
            "     |  __reduce__(...)\n",
            "     |      Helper for pickle.\n",
            "     |  \n",
            "     |  __repr__(self, /)\n",
            "     |      Return repr(self).\n",
            "     |  \n",
            "     |  ----------------------------------------------------------------------\n",
            "     |  Static methods defined here:\n",
            "     |  \n",
            "     |  __new__(*args, **kwargs) from builtins.type\n",
            "     |      Create and return a new object.  See help(type) for accurate signature.\n",
            "     |  \n",
            "     |  ----------------------------------------------------------------------\n",
            "     |  Data descriptors defined here:\n",
            "     |  \n",
            "     |  tm_gmtoff\n",
            "     |      offset from UTC in seconds\n",
            "     |  \n",
            "     |  tm_hour\n",
            "     |      hours, range [0, 23]\n",
            "     |  \n",
            "     |  tm_isdst\n",
            "     |      1 if summer time is in effect, 0 if not, and -1 if unknown\n",
            "     |  \n",
            "     |  tm_mday\n",
            "     |      day of month, range [1, 31]\n",
            "     |  \n",
            "     |  tm_min\n",
            "     |      minutes, range [0, 59]\n",
            "     |  \n",
            "     |  tm_mon\n",
            "     |      month of year, range [1, 12]\n",
            "     |  \n",
            "     |  tm_sec\n",
            "     |      seconds, range [0, 61])\n",
            "     |  \n",
            "     |  tm_wday\n",
            "     |      day of week, range [0, 6], Monday is 0\n",
            "     |  \n",
            "     |  tm_yday\n",
            "     |      day of year, range [1, 366]\n",
            "     |  \n",
            "     |  tm_year\n",
            "     |      year, for example, 1993\n",
            "     |  \n",
            "     |  tm_zone\n",
            "     |      abbreviation of timezone name\n",
            "     |  \n",
            "     |  ----------------------------------------------------------------------\n",
            "     |  Data and other attributes defined here:\n",
            "     |  \n",
            "     |  n_fields = 11\n",
            "     |  \n",
            "     |  n_sequence_fields = 9\n",
            "     |  \n",
            "     |  n_unnamed_fields = 0\n",
            "     |  \n",
            "     |  ----------------------------------------------------------------------\n",
            "     |  Methods inherited from builtins.tuple:\n",
            "     |  \n",
            "     |  __add__(self, value, /)\n",
            "     |      Return self+value.\n",
            "     |  \n",
            "     |  __contains__(self, key, /)\n",
            "     |      Return key in self.\n",
            "     |  \n",
            "     |  __eq__(self, value, /)\n",
            "     |      Return self==value.\n",
            "     |  \n",
            "     |  __ge__(self, value, /)\n",
            "     |      Return self>=value.\n",
            "     |  \n",
            "     |  __getattribute__(self, name, /)\n",
            "     |      Return getattr(self, name).\n",
            "     |  \n",
            "     |  __getitem__(self, key, /)\n",
            "     |      Return self[key].\n",
            "     |  \n",
            "     |  __getnewargs__(self, /)\n",
            "     |  \n",
            "     |  __gt__(self, value, /)\n",
            "     |      Return self>value.\n",
            "     |  \n",
            "     |  __hash__(self, /)\n",
            "     |      Return hash(self).\n",
            "     |  \n",
            "     |  __iter__(self, /)\n",
            "     |      Implement iter(self).\n",
            "     |  \n",
            "     |  __le__(self, value, /)\n",
            "     |      Return self<=value.\n",
            "     |  \n",
            "     |  __len__(self, /)\n",
            "     |      Return len(self).\n",
            "     |  \n",
            "     |  __lt__(self, value, /)\n",
            "     |      Return self<value.\n",
            "     |  \n",
            "     |  __mul__(self, value, /)\n",
            "     |      Return self*value.\n",
            "     |  \n",
            "     |  __ne__(self, value, /)\n",
            "     |      Return self!=value.\n",
            "     |  \n",
            "     |  __rmul__(self, value, /)\n",
            "     |      Return value*self.\n",
            "     |  \n",
            "     |  count(self, value, /)\n",
            "     |      Return number of occurrences of value.\n",
            "     |  \n",
            "     |  index(self, value, start=0, stop=9223372036854775807, /)\n",
            "     |      Return first index of value.\n",
            "     |      \n",
            "     |      Raises ValueError if the value is not present.\n",
            "\n",
            "FUNCTIONS\n",
            "    asctime(...)\n",
            "        asctime([tuple]) -> string\n",
            "        \n",
            "        Convert a time tuple to a string, e.g. 'Sat Jun 06 16:26:11 1998'.\n",
            "        When the time tuple is not present, current time as returned by localtime()\n",
            "        is used.\n",
            "    \n",
            "    clock(...)\n",
            "        clock() -> floating point number\n",
            "        \n",
            "        Return the CPU time or real time since the start of the process or since\n",
            "        the first call to clock().  This has as much precision as the system\n",
            "        records.\n",
            "    \n",
            "    clock_getres(...)\n",
            "        clock_getres(clk_id) -> floating point number\n",
            "        \n",
            "        Return the resolution (precision) of the specified clock clk_id.\n",
            "    \n",
            "    clock_gettime(...)\n",
            "        clock_gettime(clk_id) -> float\n",
            "        \n",
            "        Return the time of the specified clock clk_id.\n",
            "    \n",
            "    clock_gettime_ns(...)\n",
            "        clock_gettime_ns(clk_id) -> int\n",
            "        \n",
            "        Return the time of the specified clock clk_id as nanoseconds.\n",
            "    \n",
            "    clock_settime(...)\n",
            "        clock_settime(clk_id, time)\n",
            "        \n",
            "        Set the time of the specified clock clk_id.\n",
            "    \n",
            "    clock_settime_ns(...)\n",
            "        clock_settime_ns(clk_id, time)\n",
            "        \n",
            "        Set the time of the specified clock clk_id with nanoseconds.\n",
            "    \n",
            "    ctime(...)\n",
            "        ctime(seconds) -> string\n",
            "        \n",
            "        Convert a time in seconds since the Epoch to a string in local time.\n",
            "        This is equivalent to asctime(localtime(seconds)). When the time tuple is\n",
            "        not present, current time as returned by localtime() is used.\n",
            "    \n",
            "    get_clock_info(...)\n",
            "        get_clock_info(name: str) -> dict\n",
            "        \n",
            "        Get information of the specified clock.\n",
            "    \n",
            "    gmtime(...)\n",
            "        gmtime([seconds]) -> (tm_year, tm_mon, tm_mday, tm_hour, tm_min,\n",
            "                               tm_sec, tm_wday, tm_yday, tm_isdst)\n",
            "        \n",
            "        Convert seconds since the Epoch to a time tuple expressing UTC (a.k.a.\n",
            "        GMT).  When 'seconds' is not passed in, convert the current time instead.\n",
            "        \n",
            "        If the platform supports the tm_gmtoff and tm_zone, they are available as\n",
            "        attributes only.\n",
            "    \n",
            "    localtime(...)\n",
            "        localtime([seconds]) -> (tm_year,tm_mon,tm_mday,tm_hour,tm_min,\n",
            "                                  tm_sec,tm_wday,tm_yday,tm_isdst)\n",
            "        \n",
            "        Convert seconds since the Epoch to a time tuple expressing local time.\n",
            "        When 'seconds' is not passed in, convert the current time instead.\n",
            "    \n",
            "    mktime(...)\n",
            "        mktime(tuple) -> floating point number\n",
            "        \n",
            "        Convert a time tuple in local time to seconds since the Epoch.\n",
            "        Note that mktime(gmtime(0)) will not generally return zero for most\n",
            "        time zones; instead the returned value will either be equal to that\n",
            "        of the timezone or altzone attributes on the time module.\n",
            "    \n",
            "    monotonic(...)\n",
            "        monotonic() -> float\n",
            "        \n",
            "        Monotonic clock, cannot go backward.\n",
            "    \n",
            "    monotonic_ns(...)\n",
            "        monotonic_ns() -> int\n",
            "        \n",
            "        Monotonic clock, cannot go backward, as nanoseconds.\n",
            "    \n",
            "    perf_counter(...)\n",
            "        perf_counter() -> float\n",
            "        \n",
            "        Performance counter for benchmarking.\n",
            "    \n",
            "    perf_counter_ns(...)\n",
            "        perf_counter_ns() -> int\n",
            "        \n",
            "        Performance counter for benchmarking as nanoseconds.\n",
            "    \n",
            "    process_time(...)\n",
            "        process_time() -> float\n",
            "        \n",
            "        Process time for profiling: sum of the kernel and user-space CPU time.\n",
            "    \n",
            "    process_time_ns(...)\n",
            "        process_time() -> int\n",
            "        \n",
            "        Process time for profiling as nanoseconds:\n",
            "        sum of the kernel and user-space CPU time.\n",
            "    \n",
            "    pthread_getcpuclockid(...)\n",
            "        pthread_getcpuclockid(thread_id) -> int\n",
            "        \n",
            "        Return the clk_id of a thread's CPU time clock.\n",
            "    \n",
            "    sleep(...)\n",
            "        sleep(seconds)\n",
            "        \n",
            "        Delay execution for a given number of seconds.  The argument may be\n",
            "        a floating point number for subsecond precision.\n",
            "    \n",
            "    strftime(...)\n",
            "        strftime(format[, tuple]) -> string\n",
            "        \n",
            "        Convert a time tuple to a string according to a format specification.\n",
            "        See the library reference manual for formatting codes. When the time tuple\n",
            "        is not present, current time as returned by localtime() is used.\n",
            "        \n",
            "        Commonly used format codes:\n",
            "        \n",
            "        %Y  Year with century as a decimal number.\n",
            "        %m  Month as a decimal number [01,12].\n",
            "        %d  Day of the month as a decimal number [01,31].\n",
            "        %H  Hour (24-hour clock) as a decimal number [00,23].\n",
            "        %M  Minute as a decimal number [00,59].\n",
            "        %S  Second as a decimal number [00,61].\n",
            "        %z  Time zone offset from UTC.\n",
            "        %a  Locale's abbreviated weekday name.\n",
            "        %A  Locale's full weekday name.\n",
            "        %b  Locale's abbreviated month name.\n",
            "        %B  Locale's full month name.\n",
            "        %c  Locale's appropriate date and time representation.\n",
            "        %I  Hour (12-hour clock) as a decimal number [01,12].\n",
            "        %p  Locale's equivalent of either AM or PM.\n",
            "        \n",
            "        Other codes may be available on your platform.  See documentation for\n",
            "        the C library strftime function.\n",
            "    \n",
            "    strptime(...)\n",
            "        strptime(string, format) -> struct_time\n",
            "        \n",
            "        Parse a string to a time tuple according to a format specification.\n",
            "        See the library reference manual for formatting codes (same as\n",
            "        strftime()).\n",
            "        \n",
            "        Commonly used format codes:\n",
            "        \n",
            "        %Y  Year with century as a decimal number.\n",
            "        %m  Month as a decimal number [01,12].\n",
            "        %d  Day of the month as a decimal number [01,31].\n",
            "        %H  Hour (24-hour clock) as a decimal number [00,23].\n",
            "        %M  Minute as a decimal number [00,59].\n",
            "        %S  Second as a decimal number [00,61].\n",
            "        %z  Time zone offset from UTC.\n",
            "        %a  Locale's abbreviated weekday name.\n",
            "        %A  Locale's full weekday name.\n",
            "        %b  Locale's abbreviated month name.\n",
            "        %B  Locale's full month name.\n",
            "        %c  Locale's appropriate date and time representation.\n",
            "        %I  Hour (12-hour clock) as a decimal number [01,12].\n",
            "        %p  Locale's equivalent of either AM or PM.\n",
            "        \n",
            "        Other codes may be available on your platform.  See documentation for\n",
            "        the C library strftime function.\n",
            "    \n",
            "    thread_time(...)\n",
            "        thread_time() -> float\n",
            "        \n",
            "        Thread time for profiling: sum of the kernel and user-space CPU time.\n",
            "    \n",
            "    thread_time_ns(...)\n",
            "        thread_time() -> int\n",
            "        \n",
            "        Thread time for profiling as nanoseconds:\n",
            "        sum of the kernel and user-space CPU time.\n",
            "    \n",
            "    time(...)\n",
            "        time() -> floating point number\n",
            "        \n",
            "        Return the current time in seconds since the Epoch.\n",
            "        Fractions of a second may be present if the system clock provides them.\n",
            "    \n",
            "    time_ns(...)\n",
            "        time_ns() -> int\n",
            "        \n",
            "        Return the current time in nanoseconds since the Epoch.\n",
            "    \n",
            "    tzset(...)\n",
            "        tzset()\n",
            "        \n",
            "        Initialize, or reinitialize, the local timezone to the value stored in\n",
            "        os.environ['TZ']. The TZ environment variable should be specified in\n",
            "        standard Unix timezone format as documented in the tzset man page\n",
            "        (eg. 'US/Eastern', 'Europe/Amsterdam'). Unknown timezones will silently\n",
            "        fall back to UTC. If the TZ environment variable is not set, the local\n",
            "        timezone is set to the systems best guess of wallclock time.\n",
            "        Changing the TZ environment variable without calling tzset *may* change\n",
            "        the local timezone used by methods such as localtime, but this behaviour\n",
            "        should not be relied on.\n",
            "\n",
            "DATA\n",
            "    CLOCK_BOOTTIME = 7\n",
            "    CLOCK_MONOTONIC = 1\n",
            "    CLOCK_MONOTONIC_RAW = 4\n",
            "    CLOCK_PROCESS_CPUTIME_ID = 2\n",
            "    CLOCK_REALTIME = 0\n",
            "    CLOCK_THREAD_CPUTIME_ID = 3\n",
            "    altzone = 0\n",
            "    daylight = 0\n",
            "    timezone = 0\n",
            "    tzname = ('UTC', 'UTC')\n",
            "\n",
            "FILE\n",
            "    (built-in)\n",
            "\n",
            "\n"
          ],
          "name": "stdout"
        }
      ]
    },
    {
      "cell_type": "code",
      "metadata": {
        "colab": {
          "base_uri": "https://localhost:8080/"
        },
        "id": "h_ewvRn4Ajvg",
        "outputId": "dce40fb4-081f-48e3-cf3f-ec8b608e66c7"
      },
      "source": [
        "print(time.time())"
      ],
      "execution_count": 9,
      "outputs": [
        {
          "output_type": "stream",
          "text": [
            "1620562088.4527447\n"
          ],
          "name": "stdout"
        }
      ]
    },
    {
      "cell_type": "code",
      "metadata": {
        "colab": {
          "base_uri": "https://localhost:8080/"
        },
        "id": "RPp7eu1vBXNB",
        "outputId": "e7e450f3-85cf-47cf-90c6-d3791a3bef94"
      },
      "source": [
        "help(time.time)"
      ],
      "execution_count": 5,
      "outputs": [
        {
          "output_type": "stream",
          "text": [
            "Help on built-in function time in module time:\n",
            "\n",
            "time(...)\n",
            "    time() -> floating point number\n",
            "    \n",
            "    Return the current time in seconds since the Epoch.\n",
            "    Fractions of a second may be present if the system clock provides them.\n",
            "\n"
          ],
          "name": "stdout"
        }
      ]
    },
    {
      "cell_type": "code",
      "metadata": {
        "colab": {
          "base_uri": "https://localhost:8080/"
        },
        "id": "4dT209rqBbta",
        "outputId": "2495db73-49cd-4741-b578-89174e98e71f"
      },
      "source": [
        "print(time.localtime())"
      ],
      "execution_count": 11,
      "outputs": [
        {
          "output_type": "stream",
          "text": [
            "time.struct_time(tm_year=2021, tm_mon=5, tm_mday=9, tm_hour=12, tm_min=9, tm_sec=35, tm_wday=6, tm_yday=129, tm_isdst=0)\n"
          ],
          "name": "stdout"
        }
      ]
    },
    {
      "cell_type": "code",
      "metadata": {
        "colab": {
          "base_uri": "https://localhost:8080/"
        },
        "id": "0dZkP_YQCYS5",
        "outputId": "b280c61e-33db-4422-ad12-b9f5a0a3cfd6"
      },
      "source": [
        "print(time.asctime())"
      ],
      "execution_count": 14,
      "outputs": [
        {
          "output_type": "stream",
          "text": [
            "Sun May  9 12:11:17 2021\n"
          ],
          "name": "stdout"
        }
      ]
    },
    {
      "cell_type": "code",
      "metadata": {
        "colab": {
          "base_uri": "https://localhost:8080/"
        },
        "id": "CQk-TfOcCfDd",
        "outputId": "74123bc5-4a87-43f8-f4b8-7d2b2c26c570"
      },
      "source": [
        "print(time.strftime(\"%Y-%m-%d...........%H:%M:%S\"))"
      ],
      "execution_count": 26,
      "outputs": [
        {
          "output_type": "stream",
          "text": [
            "2021-05-09...........12:14:55\n"
          ],
          "name": "stdout"
        }
      ]
    },
    {
      "cell_type": "code",
      "metadata": {
        "colab": {
          "base_uri": "https://localhost:8080/"
        },
        "id": "8hpQlNhsDE38",
        "outputId": "95ead793-f867-4909-cb04-b455ba3c940e"
      },
      "source": [
        "help(time.strftime)"
      ],
      "execution_count": 27,
      "outputs": [
        {
          "output_type": "stream",
          "text": [
            "Help on built-in function strftime in module time:\n",
            "\n",
            "strftime(...)\n",
            "    strftime(format[, tuple]) -> string\n",
            "    \n",
            "    Convert a time tuple to a string according to a format specification.\n",
            "    See the library reference manual for formatting codes. When the time tuple\n",
            "    is not present, current time as returned by localtime() is used.\n",
            "    \n",
            "    Commonly used format codes:\n",
            "    \n",
            "    %Y  Year with century as a decimal number.\n",
            "    %m  Month as a decimal number [01,12].\n",
            "    %d  Day of the month as a decimal number [01,31].\n",
            "    %H  Hour (24-hour clock) as a decimal number [00,23].\n",
            "    %M  Minute as a decimal number [00,59].\n",
            "    %S  Second as a decimal number [00,61].\n",
            "    %z  Time zone offset from UTC.\n",
            "    %a  Locale's abbreviated weekday name.\n",
            "    %A  Locale's full weekday name.\n",
            "    %b  Locale's abbreviated month name.\n",
            "    %B  Locale's full month name.\n",
            "    %c  Locale's appropriate date and time representation.\n",
            "    %I  Hour (12-hour clock) as a decimal number [01,12].\n",
            "    %p  Locale's equivalent of either AM or PM.\n",
            "    \n",
            "    Other codes may be available on your platform.  See documentation for\n",
            "    the C library strftime function.\n",
            "\n"
          ],
          "name": "stdout"
        }
      ]
    },
    {
      "cell_type": "code",
      "metadata": {
        "colab": {
          "base_uri": "https://localhost:8080/"
        },
        "id": "Jr9PQxNYDXg4",
        "outputId": "e29faf7e-6099-4567-f330-62d8e2c55ddb"
      },
      "source": [
        "time.sleep(3)\n",
        "print(\"Merhaba\")"
      ],
      "execution_count": 60,
      "outputs": [
        {
          "output_type": "stream",
          "text": [
            "Merhaba\n"
          ],
          "name": "stdout"
        }
      ]
    },
    {
      "cell_type": "code",
      "metadata": {
        "id": "quwVQO-zDtV3"
      },
      "source": [
        "#Countdown uygulaması"
      ],
      "execution_count": null,
      "outputs": []
    },
    {
      "cell_type": "code",
      "metadata": {
        "colab": {
          "base_uri": "https://localhost:8080/"
        },
        "id": "T-I05FnhDwJB",
        "outputId": "ac179281-bb48-4ee5-dc58-caa07a7c4f30"
      },
      "source": [
        "x = 10\n",
        "while x>=0:\n",
        "  print(x)\n",
        "  x = x-1\n",
        "  time.sleep(1)\n",
        "print(\"Anneler günün kutlu olsun Anne....💐❤️🤗\")"
      ],
      "execution_count": 57,
      "outputs": [
        {
          "output_type": "stream",
          "text": [
            "10\n",
            "9\n",
            "8\n",
            "7\n",
            "6\n",
            "5\n",
            "4\n",
            "3\n",
            "2\n",
            "1\n",
            "0\n",
            "Anneler günün kutlu olsun Anne....💐❤️🤗\n"
          ],
          "name": "stdout"
        }
      ]
    },
    {
      "cell_type": "code",
      "metadata": {
        "id": "ulc7HY5XEqiy"
      },
      "source": [
        "#geriye doğru sayma"
      ],
      "execution_count": 33,
      "outputs": []
    },
    {
      "cell_type": "code",
      "metadata": {
        "colab": {
          "base_uri": "https://localhost:8080/",
          "height": 419
        },
        "id": "V7PxnZgJEuXI",
        "outputId": "87534d69-bd9f-439f-9a20-658c7234686f"
      },
      "source": [
        "x = 0\n",
        "while True:\n",
        "  print(x)\n",
        "  x = x+1\n",
        "  time.sleep(1)"
      ],
      "execution_count": 34,
      "outputs": [
        {
          "output_type": "stream",
          "text": [
            "0\n",
            "1\n",
            "2\n",
            "3\n",
            "4\n",
            "5\n",
            "6\n",
            "7\n",
            "8\n",
            "9\n",
            "10\n",
            "11\n",
            "12\n"
          ],
          "name": "stdout"
        },
        {
          "output_type": "error",
          "ename": "KeyboardInterrupt",
          "evalue": "ignored",
          "traceback": [
            "\u001b[0;31m---------------------------------------------------------------------------\u001b[0m",
            "\u001b[0;31mKeyboardInterrupt\u001b[0m                         Traceback (most recent call last)",
            "\u001b[0;32m<ipython-input-34-306ef85b7b2b>\u001b[0m in \u001b[0;36m<module>\u001b[0;34m()\u001b[0m\n\u001b[1;32m      3\u001b[0m   \u001b[0mprint\u001b[0m\u001b[0;34m(\u001b[0m\u001b[0mx\u001b[0m\u001b[0;34m)\u001b[0m\u001b[0;34m\u001b[0m\u001b[0;34m\u001b[0m\u001b[0m\n\u001b[1;32m      4\u001b[0m   \u001b[0mx\u001b[0m \u001b[0;34m=\u001b[0m \u001b[0mx\u001b[0m\u001b[0;34m+\u001b[0m\u001b[0;36m1\u001b[0m\u001b[0;34m\u001b[0m\u001b[0;34m\u001b[0m\u001b[0m\n\u001b[0;32m----> 5\u001b[0;31m   \u001b[0mtime\u001b[0m\u001b[0;34m.\u001b[0m\u001b[0msleep\u001b[0m\u001b[0;34m(\u001b[0m\u001b[0;36m1\u001b[0m\u001b[0;34m)\u001b[0m\u001b[0;34m\u001b[0m\u001b[0;34m\u001b[0m\u001b[0m\n\u001b[0m",
            "\u001b[0;31mKeyboardInterrupt\u001b[0m: "
          ]
        }
      ]
    },
    {
      "cell_type": "code",
      "metadata": {
        "colab": {
          "base_uri": "https://localhost:8080/"
        },
        "id": "mztiG3vJE_j9",
        "outputId": "529a7135-a13a-4e04-c1c4-ce48424ea216"
      },
      "source": [
        "print(time.clock())"
      ],
      "execution_count": 40,
      "outputs": [
        {
          "output_type": "stream",
          "text": [
            "10.453333\n"
          ],
          "name": "stdout"
        },
        {
          "output_type": "stream",
          "text": [
            "/usr/local/lib/python3.7/dist-packages/ipykernel_launcher.py:1: DeprecationWarning: time.clock has been deprecated in Python 3.3 and will be removed from Python 3.8: use time.perf_counter or time.process_time instead\n",
            "  \"\"\"Entry point for launching an IPython kernel.\n"
          ],
          "name": "stderr"
        }
      ]
    },
    {
      "cell_type": "code",
      "metadata": {
        "id": "IBDj_DYwFKde"
      },
      "source": [
        "#Bilgi yarışması uygulaması...V.0.01"
      ],
      "execution_count": 41,
      "outputs": []
    },
    {
      "cell_type": "code",
      "metadata": {
        "id": "XZL4tKoPFzwH"
      },
      "source": [
        "sorular = [\"Başkentimiz neresidir?\" , \"Türkiye'nin en büyük gölü hangisidir?\", \"Türkiye'nin en uzun nehir?\"]\n",
        "soru_1 = [\"A)Ankara\", \"B)Paris\", \"C)İstanbul\", \"D)Kars\"]\n",
        "soru_2 = [\"A)Tuz\", \"B)Van\", \"C)Görland\", \"D)Karadeniz\"]\n",
        "soru_3 = [\"A)Nehir\", \"B)Irmak\", \"C)Kızıl Irmak\", \"D)Uzun Nehir\"]\n",
        "cevaplar = [\"a\",\"b\",\"c\"]\n",
        "\n",
        "def bilgiyarismasi():\n",
        "  puan = 0\n",
        "  print(\"Bilgi yarışması başlamak üzere....\\nLütfen şıkları yazarken A, B, C, D şeklinde giriniz...\")\n",
        "  print(\"Soru-1\", sorular[0])\n",
        "  for eleman in soru_1:\n",
        "    print(eleman)\n",
        "  cevap_1 = input(\"Cevabını gir..:)\")\n",
        "  if cevap_1.lower() == cevaplar[0]:\n",
        "    print(\"Tebrikler.🥳\")\n",
        "    puan +=10\n",
        "    print(\"Puanın:\", puan)\n",
        "  else:\n",
        "    print(\"Cevabın yanlış☹️\")\n",
        "  print(\"*\"*50)\n",
        "\n",
        "  print(\"Soru-2\", sorular[1])\n",
        "  for eleman in soru_2:\n",
        "    print(eleman)\n",
        "  cevap_2 = input(\"Cevabını gir..:)\")\n",
        "  if cevap_2.lower() == cevaplar[1]:\n",
        "    print(\"Tebrikler.🥳\")\n",
        "    puan +=10\n",
        "    print(\"Puanın:\", puan)\n",
        "  else:\n",
        "    print(\"Cevabın yanlış☹️\")\n",
        "  print(\"*\"*50)\n",
        "\n",
        "  print(\"Soru-3\", sorular[2])\n",
        "  for eleman in soru_3:\n",
        "    print(eleman)\n",
        "  cevap_3 = input(\"Cevabını gir..:)\")\n",
        "  if cevap_3.lower() == cevaplar[2]:\n",
        "    print(\"Tebrikler.🥳\")\n",
        "    puan +=10\n",
        "    print(\"Puanın:\", puan)\n",
        "  else:\n",
        "    print(\"Cevabın yanlış☹️\")\n",
        "  print(\"*\"*50)\n",
        "  if puan == 30:\n",
        "    print(\"Helal koçum... Bütün soruları bildin...Puanın:\", puan)\n",
        "  else:\n",
        "    print(\"Yarışma tamamlandı...Toplamda {} puan aldın...\".format(puan))"
      ],
      "execution_count": 56,
      "outputs": []
    },
    {
      "cell_type": "code",
      "metadata": {
        "colab": {
          "base_uri": "https://localhost:8080/"
        },
        "id": "OBKr9dG9I3NM",
        "outputId": "f15a9a4a-7b37-49e9-bc7c-fe5679a110a8"
      },
      "source": [
        "bilgiyarismasi()"
      ],
      "execution_count": 55,
      "outputs": [
        {
          "output_type": "stream",
          "text": [
            "Bilgi yarışması başlamak üzere....\n",
            "Lütfen şıkları yazarken A, B, C, D şeklinde giriniz...\n",
            "Soru-1 Başktentimiz neresidir?\n",
            "A)Ankara\n",
            "B)Paris\n",
            "C)İstanbul\n",
            "D)Kars\n",
            "Cevabını gir..:)a\n",
            "Tebrikler.🥳\n",
            "Puanın: 10\n",
            "**************************************************\n",
            "Soru-2 Türkiye'nin en büyük gölü hangisidir?\n",
            "A)Tuz\n",
            "B)Van\n",
            "C)Görland\n",
            "D)Karadeniz\n",
            "Cevabını gir..:)c\n",
            "Cevabın yanlış☹️\n",
            "**************************************************\n",
            "Soru-3 Türkiye'nin en uzun nehir?\n",
            "A)Nehir\n",
            "B)Irmak\n",
            "C)Kızıl Irmak\n",
            "D)Uzun Nehir\n",
            "Cevabını gir..:)a\n",
            "Cevabın yanlış☹️\n",
            "**************************************************\n",
            "Yarışma tamamlandı...Toplamda 10 puan aldın...\n"
          ],
          "name": "stdout"
        }
      ]
    },
    {
      "cell_type": "code",
      "metadata": {
        "id": "xH2kLe1iI5CU"
      },
      "source": [
        "#ödev\n",
        "#10 soruluk bir yarışma hazırlanacak\n",
        "#sorular ve cevap şıkları aynı listede olacak\n",
        "#time.sleep() eklenecek"
      ],
      "execution_count": null,
      "outputs": []
    },
    {
      "cell_type": "code",
      "metadata": {
        "id": "nHw9ge4qM0tK"
      },
      "source": [
        ""
      ],
      "execution_count": null,
      "outputs": []
    }
  ]
}